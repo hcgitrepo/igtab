{
 "cells": [
  {
   "cell_type": "markdown",
   "metadata": {
    "id": "tRoKp4U_hWrR"
   },
   "source": [
    "# Example of Integrated Gradients for tabular data"
   ]
  },
  {
   "cell_type": "markdown",
   "metadata": {
    "id": "aUA1mVOOhcYh"
   },
   "source": [
    "## Introduction\n",
    "\n",
    "Integrated Gradients is introduced by this paper, Axiomatic Attribution for Deep Networks. (https://arxiv.org/abs/1703.01365) Google also presented this algorithm to explain attributions of image data in https://www.tensorflow.org/tutorials/interpretability/integrated_gradients. However, one of the limitations is that this sample code is for image data, so it cannot be applied directly to tabular data. The goal of this document is to convert the source code into a modified version which works on tabular data with small changes.\n",
    "\n",
    "The importance of explaining outputs of predictions from ML models is becoming more and more greater. Especially, for many business cases, decision makers want to know how a ML model makes its outcome in order to avoid potential problems or to understand how each variable relates to a response variable. A lot of data sets in the business environment consist of tabular data, so Integrated Gradients for tabular data will be very useful for those who want to explain their deep learning models.\n",
    "\n",
    "In this document, I am going to show you how to use Integrated Gradients for tabular data. I created a Python module, **igtab**, that implemented the algorithm especially for tabular data. The source code is available in this github.\n"
   ]
  },
  {
   "cell_type": "markdown",
   "metadata": {
    "id": "xnB7rrOCrFTL"
   },
   "source": [
    "## Load libraries"
   ]
  },
  {
   "cell_type": "code",
   "execution_count": 4,
   "metadata": {
    "id": "QmDqvIxujk9_"
   },
   "outputs": [],
   "source": [
    "import matplotlib.pylab as plt\n",
    "import numpy as np\n",
    "import tensorflow as tf\n",
    "from sklearn import datasets\n",
    "import pandas as pd\n",
    "from sklearn.model_selection import train_test_split\n",
    "from sklearn.preprocessing import StandardScaler\n",
    "import seaborn as sns\n",
    "from sklearn.metrics import *\n",
    "from tqdm import tqdm"
   ]
  },
  {
   "cell_type": "markdown",
   "metadata": {
    "id": "6QhXTvYxhq3l"
   },
   "source": [
    "## Prepare data\n",
    "\n",
    "### Load the bank marketing data set \n",
    "\n",
    "(https://archive.ics.uci.edu/ml/datasets/bank+marketing)."
   ]
  },
  {
   "cell_type": "code",
   "execution_count": 5,
   "metadata": {
    "id": "anJxOIz7CU89"
   },
   "outputs": [],
   "source": [
    "bank = pd.read_csv('bank.csv', sep=';')"
   ]
  },
  {
   "cell_type": "code",
   "execution_count": 6,
   "metadata": {
    "colab": {
     "base_uri": "https://localhost:8080/",
     "height": 270
    },
    "id": "IhC5l-8gHshP",
    "outputId": "73e3a7af-2ca0-4a7a-fe40-1a0bd318ac28"
   },
   "outputs": [
    {
     "data": {
      "text/html": [
       "\n",
       "  <div id=\"df-c1c7ffba-fdf9-47dc-8c8c-8b09d189d0f0\">\n",
       "    <div class=\"colab-df-container\">\n",
       "      <div>\n",
       "<style scoped>\n",
       "    .dataframe tbody tr th:only-of-type {\n",
       "        vertical-align: middle;\n",
       "    }\n",
       "\n",
       "    .dataframe tbody tr th {\n",
       "        vertical-align: top;\n",
       "    }\n",
       "\n",
       "    .dataframe thead th {\n",
       "        text-align: right;\n",
       "    }\n",
       "</style>\n",
       "<table border=\"1\" class=\"dataframe\">\n",
       "  <thead>\n",
       "    <tr style=\"text-align: right;\">\n",
       "      <th></th>\n",
       "      <th>age</th>\n",
       "      <th>job</th>\n",
       "      <th>marital</th>\n",
       "      <th>education</th>\n",
       "      <th>default</th>\n",
       "      <th>balance</th>\n",
       "      <th>housing</th>\n",
       "      <th>loan</th>\n",
       "      <th>contact</th>\n",
       "      <th>day</th>\n",
       "      <th>month</th>\n",
       "      <th>duration</th>\n",
       "      <th>campaign</th>\n",
       "      <th>pdays</th>\n",
       "      <th>previous</th>\n",
       "      <th>poutcome</th>\n",
       "      <th>y</th>\n",
       "    </tr>\n",
       "  </thead>\n",
       "  <tbody>\n",
       "    <tr>\n",
       "      <th>0</th>\n",
       "      <td>30</td>\n",
       "      <td>unemployed</td>\n",
       "      <td>married</td>\n",
       "      <td>primary</td>\n",
       "      <td>no</td>\n",
       "      <td>1787</td>\n",
       "      <td>no</td>\n",
       "      <td>no</td>\n",
       "      <td>cellular</td>\n",
       "      <td>19</td>\n",
       "      <td>oct</td>\n",
       "      <td>79</td>\n",
       "      <td>1</td>\n",
       "      <td>-1</td>\n",
       "      <td>0</td>\n",
       "      <td>unknown</td>\n",
       "      <td>no</td>\n",
       "    </tr>\n",
       "    <tr>\n",
       "      <th>1</th>\n",
       "      <td>33</td>\n",
       "      <td>services</td>\n",
       "      <td>married</td>\n",
       "      <td>secondary</td>\n",
       "      <td>no</td>\n",
       "      <td>4789</td>\n",
       "      <td>yes</td>\n",
       "      <td>yes</td>\n",
       "      <td>cellular</td>\n",
       "      <td>11</td>\n",
       "      <td>may</td>\n",
       "      <td>220</td>\n",
       "      <td>1</td>\n",
       "      <td>339</td>\n",
       "      <td>4</td>\n",
       "      <td>failure</td>\n",
       "      <td>no</td>\n",
       "    </tr>\n",
       "    <tr>\n",
       "      <th>2</th>\n",
       "      <td>35</td>\n",
       "      <td>management</td>\n",
       "      <td>single</td>\n",
       "      <td>tertiary</td>\n",
       "      <td>no</td>\n",
       "      <td>1350</td>\n",
       "      <td>yes</td>\n",
       "      <td>no</td>\n",
       "      <td>cellular</td>\n",
       "      <td>16</td>\n",
       "      <td>apr</td>\n",
       "      <td>185</td>\n",
       "      <td>1</td>\n",
       "      <td>330</td>\n",
       "      <td>1</td>\n",
       "      <td>failure</td>\n",
       "      <td>no</td>\n",
       "    </tr>\n",
       "    <tr>\n",
       "      <th>3</th>\n",
       "      <td>30</td>\n",
       "      <td>management</td>\n",
       "      <td>married</td>\n",
       "      <td>tertiary</td>\n",
       "      <td>no</td>\n",
       "      <td>1476</td>\n",
       "      <td>yes</td>\n",
       "      <td>yes</td>\n",
       "      <td>unknown</td>\n",
       "      <td>3</td>\n",
       "      <td>jun</td>\n",
       "      <td>199</td>\n",
       "      <td>4</td>\n",
       "      <td>-1</td>\n",
       "      <td>0</td>\n",
       "      <td>unknown</td>\n",
       "      <td>no</td>\n",
       "    </tr>\n",
       "    <tr>\n",
       "      <th>4</th>\n",
       "      <td>59</td>\n",
       "      <td>blue-collar</td>\n",
       "      <td>married</td>\n",
       "      <td>secondary</td>\n",
       "      <td>no</td>\n",
       "      <td>0</td>\n",
       "      <td>yes</td>\n",
       "      <td>no</td>\n",
       "      <td>unknown</td>\n",
       "      <td>5</td>\n",
       "      <td>may</td>\n",
       "      <td>226</td>\n",
       "      <td>1</td>\n",
       "      <td>-1</td>\n",
       "      <td>0</td>\n",
       "      <td>unknown</td>\n",
       "      <td>no</td>\n",
       "    </tr>\n",
       "  </tbody>\n",
       "</table>\n",
       "</div>\n",
       "      <button class=\"colab-df-convert\" onclick=\"convertToInteractive('df-c1c7ffba-fdf9-47dc-8c8c-8b09d189d0f0')\"\n",
       "              title=\"Convert this dataframe to an interactive table.\"\n",
       "              style=\"display:none;\">\n",
       "        \n",
       "  <svg xmlns=\"http://www.w3.org/2000/svg\" height=\"24px\"viewBox=\"0 0 24 24\"\n",
       "       width=\"24px\">\n",
       "    <path d=\"M0 0h24v24H0V0z\" fill=\"none\"/>\n",
       "    <path d=\"M18.56 5.44l.94 2.06.94-2.06 2.06-.94-2.06-.94-.94-2.06-.94 2.06-2.06.94zm-11 1L8.5 8.5l.94-2.06 2.06-.94-2.06-.94L8.5 2.5l-.94 2.06-2.06.94zm10 10l.94 2.06.94-2.06 2.06-.94-2.06-.94-.94-2.06-.94 2.06-2.06.94z\"/><path d=\"M17.41 7.96l-1.37-1.37c-.4-.4-.92-.59-1.43-.59-.52 0-1.04.2-1.43.59L10.3 9.45l-7.72 7.72c-.78.78-.78 2.05 0 2.83L4 21.41c.39.39.9.59 1.41.59.51 0 1.02-.2 1.41-.59l7.78-7.78 2.81-2.81c.8-.78.8-2.07 0-2.86zM5.41 20L4 18.59l7.72-7.72 1.47 1.35L5.41 20z\"/>\n",
       "  </svg>\n",
       "      </button>\n",
       "      \n",
       "  <style>\n",
       "    .colab-df-container {\n",
       "      display:flex;\n",
       "      flex-wrap:wrap;\n",
       "      gap: 12px;\n",
       "    }\n",
       "\n",
       "    .colab-df-convert {\n",
       "      background-color: #E8F0FE;\n",
       "      border: none;\n",
       "      border-radius: 50%;\n",
       "      cursor: pointer;\n",
       "      display: none;\n",
       "      fill: #1967D2;\n",
       "      height: 32px;\n",
       "      padding: 0 0 0 0;\n",
       "      width: 32px;\n",
       "    }\n",
       "\n",
       "    .colab-df-convert:hover {\n",
       "      background-color: #E2EBFA;\n",
       "      box-shadow: 0px 1px 2px rgba(60, 64, 67, 0.3), 0px 1px 3px 1px rgba(60, 64, 67, 0.15);\n",
       "      fill: #174EA6;\n",
       "    }\n",
       "\n",
       "    [theme=dark] .colab-df-convert {\n",
       "      background-color: #3B4455;\n",
       "      fill: #D2E3FC;\n",
       "    }\n",
       "\n",
       "    [theme=dark] .colab-df-convert:hover {\n",
       "      background-color: #434B5C;\n",
       "      box-shadow: 0px 1px 3px 1px rgba(0, 0, 0, 0.15);\n",
       "      filter: drop-shadow(0px 1px 2px rgba(0, 0, 0, 0.3));\n",
       "      fill: #FFFFFF;\n",
       "    }\n",
       "  </style>\n",
       "\n",
       "      <script>\n",
       "        const buttonEl =\n",
       "          document.querySelector('#df-c1c7ffba-fdf9-47dc-8c8c-8b09d189d0f0 button.colab-df-convert');\n",
       "        buttonEl.style.display =\n",
       "          google.colab.kernel.accessAllowed ? 'block' : 'none';\n",
       "\n",
       "        async function convertToInteractive(key) {\n",
       "          const element = document.querySelector('#df-c1c7ffba-fdf9-47dc-8c8c-8b09d189d0f0');\n",
       "          const dataTable =\n",
       "            await google.colab.kernel.invokeFunction('convertToInteractive',\n",
       "                                                     [key], {});\n",
       "          if (!dataTable) return;\n",
       "\n",
       "          const docLinkHtml = 'Like what you see? Visit the ' +\n",
       "            '<a target=\"_blank\" href=https://colab.research.google.com/notebooks/data_table.ipynb>data table notebook</a>'\n",
       "            + ' to learn more about interactive tables.';\n",
       "          element.innerHTML = '';\n",
       "          dataTable['output_type'] = 'display_data';\n",
       "          await google.colab.output.renderOutput(dataTable, element);\n",
       "          const docLink = document.createElement('div');\n",
       "          docLink.innerHTML = docLinkHtml;\n",
       "          element.appendChild(docLink);\n",
       "        }\n",
       "      </script>\n",
       "    </div>\n",
       "  </div>\n",
       "  "
      ],
      "text/plain": [
       "   age          job  marital  education default  balance housing loan  \\\n",
       "0   30   unemployed  married    primary      no     1787      no   no   \n",
       "1   33     services  married  secondary      no     4789     yes  yes   \n",
       "2   35   management   single   tertiary      no     1350     yes   no   \n",
       "3   30   management  married   tertiary      no     1476     yes  yes   \n",
       "4   59  blue-collar  married  secondary      no        0     yes   no   \n",
       "\n",
       "    contact  day month  duration  campaign  pdays  previous poutcome   y  \n",
       "0  cellular   19   oct        79         1     -1         0  unknown  no  \n",
       "1  cellular   11   may       220         1    339         4  failure  no  \n",
       "2  cellular   16   apr       185         1    330         1  failure  no  \n",
       "3   unknown    3   jun       199         4     -1         0  unknown  no  \n",
       "4   unknown    5   may       226         1     -1         0  unknown  no  "
      ]
     },
     "execution_count": 6,
     "metadata": {},
     "output_type": "execute_result"
    }
   ],
   "source": [
    "bank.head()"
   ]
  },
  {
   "cell_type": "code",
   "execution_count": 7,
   "metadata": {
    "id": "-azR3o5ICuv6"
   },
   "outputs": [],
   "source": [
    "categorical_feature_names = ['job', 'marital', 'education', 'contact', 'month', 'poutcome']\n",
    "numerical_feature_names = ['age', 'balance', 'duration', 'campaign', 'pdays', 'previous']\n",
    "binary_feature_names = ['y', 'default', 'housing', 'loan']\n",
    "target_feature_name = 'y'"
   ]
  },
  {
   "cell_type": "code",
   "execution_count": 8,
   "metadata": {
    "id": "MFX1ivNMCu9K"
   },
   "outputs": [],
   "source": [
    "bank_bin = bank[binary_feature_names].applymap(lambda x: 1 if x == 'yes' else 0)\n",
    "bank_num = bank[numerical_feature_names]\n",
    "bank_cat = pd.get_dummies(bank[categorical_feature_names])"
   ]
  },
  {
   "cell_type": "code",
   "execution_count": 9,
   "metadata": {
    "colab": {
     "base_uri": "https://localhost:8080/"
    },
    "id": "xUmmpTgfHDsW",
    "outputId": "58dc0d4a-2452-4688-9775-586973582810"
   },
   "outputs": [
    {
     "data": {
      "text/plain": [
       "(4521, 48)"
      ]
     },
     "execution_count": 9,
     "metadata": {},
     "output_type": "execute_result"
    }
   ],
   "source": [
    "df = pd.concat([bank_bin, bank_num, bank_cat], axis=1)\n",
    "df.shape"
   ]
  },
  {
   "cell_type": "code",
   "execution_count": 10,
   "metadata": {
    "colab": {
     "base_uri": "https://localhost:8080/",
     "height": 300
    },
    "id": "0xcMYQ4VHubo",
    "outputId": "a4748cef-5616-4343-fe36-8be923d61b21"
   },
   "outputs": [
    {
     "data": {
      "text/html": [
       "\n",
       "  <div id=\"df-afcaadc3-88ad-425d-bb98-0e527db10a11\">\n",
       "    <div class=\"colab-df-container\">\n",
       "      <div>\n",
       "<style scoped>\n",
       "    .dataframe tbody tr th:only-of-type {\n",
       "        vertical-align: middle;\n",
       "    }\n",
       "\n",
       "    .dataframe tbody tr th {\n",
       "        vertical-align: top;\n",
       "    }\n",
       "\n",
       "    .dataframe thead th {\n",
       "        text-align: right;\n",
       "    }\n",
       "</style>\n",
       "<table border=\"1\" class=\"dataframe\">\n",
       "  <thead>\n",
       "    <tr style=\"text-align: right;\">\n",
       "      <th></th>\n",
       "      <th>y</th>\n",
       "      <th>default</th>\n",
       "      <th>housing</th>\n",
       "      <th>loan</th>\n",
       "      <th>age</th>\n",
       "      <th>balance</th>\n",
       "      <th>duration</th>\n",
       "      <th>campaign</th>\n",
       "      <th>pdays</th>\n",
       "      <th>previous</th>\n",
       "      <th>...</th>\n",
       "      <th>month_jun</th>\n",
       "      <th>month_mar</th>\n",
       "      <th>month_may</th>\n",
       "      <th>month_nov</th>\n",
       "      <th>month_oct</th>\n",
       "      <th>month_sep</th>\n",
       "      <th>poutcome_failure</th>\n",
       "      <th>poutcome_other</th>\n",
       "      <th>poutcome_success</th>\n",
       "      <th>poutcome_unknown</th>\n",
       "    </tr>\n",
       "  </thead>\n",
       "  <tbody>\n",
       "    <tr>\n",
       "      <th>0</th>\n",
       "      <td>0</td>\n",
       "      <td>0</td>\n",
       "      <td>0</td>\n",
       "      <td>0</td>\n",
       "      <td>30</td>\n",
       "      <td>1787</td>\n",
       "      <td>79</td>\n",
       "      <td>1</td>\n",
       "      <td>-1</td>\n",
       "      <td>0</td>\n",
       "      <td>...</td>\n",
       "      <td>0</td>\n",
       "      <td>0</td>\n",
       "      <td>0</td>\n",
       "      <td>0</td>\n",
       "      <td>1</td>\n",
       "      <td>0</td>\n",
       "      <td>0</td>\n",
       "      <td>0</td>\n",
       "      <td>0</td>\n",
       "      <td>1</td>\n",
       "    </tr>\n",
       "    <tr>\n",
       "      <th>1</th>\n",
       "      <td>0</td>\n",
       "      <td>0</td>\n",
       "      <td>1</td>\n",
       "      <td>1</td>\n",
       "      <td>33</td>\n",
       "      <td>4789</td>\n",
       "      <td>220</td>\n",
       "      <td>1</td>\n",
       "      <td>339</td>\n",
       "      <td>4</td>\n",
       "      <td>...</td>\n",
       "      <td>0</td>\n",
       "      <td>0</td>\n",
       "      <td>1</td>\n",
       "      <td>0</td>\n",
       "      <td>0</td>\n",
       "      <td>0</td>\n",
       "      <td>1</td>\n",
       "      <td>0</td>\n",
       "      <td>0</td>\n",
       "      <td>0</td>\n",
       "    </tr>\n",
       "    <tr>\n",
       "      <th>2</th>\n",
       "      <td>0</td>\n",
       "      <td>0</td>\n",
       "      <td>1</td>\n",
       "      <td>0</td>\n",
       "      <td>35</td>\n",
       "      <td>1350</td>\n",
       "      <td>185</td>\n",
       "      <td>1</td>\n",
       "      <td>330</td>\n",
       "      <td>1</td>\n",
       "      <td>...</td>\n",
       "      <td>0</td>\n",
       "      <td>0</td>\n",
       "      <td>0</td>\n",
       "      <td>0</td>\n",
       "      <td>0</td>\n",
       "      <td>0</td>\n",
       "      <td>1</td>\n",
       "      <td>0</td>\n",
       "      <td>0</td>\n",
       "      <td>0</td>\n",
       "    </tr>\n",
       "    <tr>\n",
       "      <th>3</th>\n",
       "      <td>0</td>\n",
       "      <td>0</td>\n",
       "      <td>1</td>\n",
       "      <td>1</td>\n",
       "      <td>30</td>\n",
       "      <td>1476</td>\n",
       "      <td>199</td>\n",
       "      <td>4</td>\n",
       "      <td>-1</td>\n",
       "      <td>0</td>\n",
       "      <td>...</td>\n",
       "      <td>1</td>\n",
       "      <td>0</td>\n",
       "      <td>0</td>\n",
       "      <td>0</td>\n",
       "      <td>0</td>\n",
       "      <td>0</td>\n",
       "      <td>0</td>\n",
       "      <td>0</td>\n",
       "      <td>0</td>\n",
       "      <td>1</td>\n",
       "    </tr>\n",
       "    <tr>\n",
       "      <th>4</th>\n",
       "      <td>0</td>\n",
       "      <td>0</td>\n",
       "      <td>1</td>\n",
       "      <td>0</td>\n",
       "      <td>59</td>\n",
       "      <td>0</td>\n",
       "      <td>226</td>\n",
       "      <td>1</td>\n",
       "      <td>-1</td>\n",
       "      <td>0</td>\n",
       "      <td>...</td>\n",
       "      <td>0</td>\n",
       "      <td>0</td>\n",
       "      <td>1</td>\n",
       "      <td>0</td>\n",
       "      <td>0</td>\n",
       "      <td>0</td>\n",
       "      <td>0</td>\n",
       "      <td>0</td>\n",
       "      <td>0</td>\n",
       "      <td>1</td>\n",
       "    </tr>\n",
       "  </tbody>\n",
       "</table>\n",
       "<p>5 rows × 48 columns</p>\n",
       "</div>\n",
       "      <button class=\"colab-df-convert\" onclick=\"convertToInteractive('df-afcaadc3-88ad-425d-bb98-0e527db10a11')\"\n",
       "              title=\"Convert this dataframe to an interactive table.\"\n",
       "              style=\"display:none;\">\n",
       "        \n",
       "  <svg xmlns=\"http://www.w3.org/2000/svg\" height=\"24px\"viewBox=\"0 0 24 24\"\n",
       "       width=\"24px\">\n",
       "    <path d=\"M0 0h24v24H0V0z\" fill=\"none\"/>\n",
       "    <path d=\"M18.56 5.44l.94 2.06.94-2.06 2.06-.94-2.06-.94-.94-2.06-.94 2.06-2.06.94zm-11 1L8.5 8.5l.94-2.06 2.06-.94-2.06-.94L8.5 2.5l-.94 2.06-2.06.94zm10 10l.94 2.06.94-2.06 2.06-.94-2.06-.94-.94-2.06-.94 2.06-2.06.94z\"/><path d=\"M17.41 7.96l-1.37-1.37c-.4-.4-.92-.59-1.43-.59-.52 0-1.04.2-1.43.59L10.3 9.45l-7.72 7.72c-.78.78-.78 2.05 0 2.83L4 21.41c.39.39.9.59 1.41.59.51 0 1.02-.2 1.41-.59l7.78-7.78 2.81-2.81c.8-.78.8-2.07 0-2.86zM5.41 20L4 18.59l7.72-7.72 1.47 1.35L5.41 20z\"/>\n",
       "  </svg>\n",
       "      </button>\n",
       "      \n",
       "  <style>\n",
       "    .colab-df-container {\n",
       "      display:flex;\n",
       "      flex-wrap:wrap;\n",
       "      gap: 12px;\n",
       "    }\n",
       "\n",
       "    .colab-df-convert {\n",
       "      background-color: #E8F0FE;\n",
       "      border: none;\n",
       "      border-radius: 50%;\n",
       "      cursor: pointer;\n",
       "      display: none;\n",
       "      fill: #1967D2;\n",
       "      height: 32px;\n",
       "      padding: 0 0 0 0;\n",
       "      width: 32px;\n",
       "    }\n",
       "\n",
       "    .colab-df-convert:hover {\n",
       "      background-color: #E2EBFA;\n",
       "      box-shadow: 0px 1px 2px rgba(60, 64, 67, 0.3), 0px 1px 3px 1px rgba(60, 64, 67, 0.15);\n",
       "      fill: #174EA6;\n",
       "    }\n",
       "\n",
       "    [theme=dark] .colab-df-convert {\n",
       "      background-color: #3B4455;\n",
       "      fill: #D2E3FC;\n",
       "    }\n",
       "\n",
       "    [theme=dark] .colab-df-convert:hover {\n",
       "      background-color: #434B5C;\n",
       "      box-shadow: 0px 1px 3px 1px rgba(0, 0, 0, 0.15);\n",
       "      filter: drop-shadow(0px 1px 2px rgba(0, 0, 0, 0.3));\n",
       "      fill: #FFFFFF;\n",
       "    }\n",
       "  </style>\n",
       "\n",
       "      <script>\n",
       "        const buttonEl =\n",
       "          document.querySelector('#df-afcaadc3-88ad-425d-bb98-0e527db10a11 button.colab-df-convert');\n",
       "        buttonEl.style.display =\n",
       "          google.colab.kernel.accessAllowed ? 'block' : 'none';\n",
       "\n",
       "        async function convertToInteractive(key) {\n",
       "          const element = document.querySelector('#df-afcaadc3-88ad-425d-bb98-0e527db10a11');\n",
       "          const dataTable =\n",
       "            await google.colab.kernel.invokeFunction('convertToInteractive',\n",
       "                                                     [key], {});\n",
       "          if (!dataTable) return;\n",
       "\n",
       "          const docLinkHtml = 'Like what you see? Visit the ' +\n",
       "            '<a target=\"_blank\" href=https://colab.research.google.com/notebooks/data_table.ipynb>data table notebook</a>'\n",
       "            + ' to learn more about interactive tables.';\n",
       "          element.innerHTML = '';\n",
       "          dataTable['output_type'] = 'display_data';\n",
       "          await google.colab.output.renderOutput(dataTable, element);\n",
       "          const docLink = document.createElement('div');\n",
       "          docLink.innerHTML = docLinkHtml;\n",
       "          element.appendChild(docLink);\n",
       "        }\n",
       "      </script>\n",
       "    </div>\n",
       "  </div>\n",
       "  "
      ],
      "text/plain": [
       "   y  default  housing  loan  age  balance  duration  campaign  pdays  \\\n",
       "0  0        0        0     0   30     1787        79         1     -1   \n",
       "1  0        0        1     1   33     4789       220         1    339   \n",
       "2  0        0        1     0   35     1350       185         1    330   \n",
       "3  0        0        1     1   30     1476       199         4     -1   \n",
       "4  0        0        1     0   59        0       226         1     -1   \n",
       "\n",
       "   previous  ...  month_jun  month_mar  month_may  month_nov  month_oct  \\\n",
       "0         0  ...          0          0          0          0          1   \n",
       "1         4  ...          0          0          1          0          0   \n",
       "2         1  ...          0          0          0          0          0   \n",
       "3         0  ...          1          0          0          0          0   \n",
       "4         0  ...          0          0          1          0          0   \n",
       "\n",
       "   month_sep  poutcome_failure  poutcome_other  poutcome_success  \\\n",
       "0          0                 0               0                 0   \n",
       "1          0                 1               0                 0   \n",
       "2          0                 1               0                 0   \n",
       "3          0                 0               0                 0   \n",
       "4          0                 0               0                 0   \n",
       "\n",
       "   poutcome_unknown  \n",
       "0                 1  \n",
       "1                 0  \n",
       "2                 0  \n",
       "3                 1  \n",
       "4                 1  \n",
       "\n",
       "[5 rows x 48 columns]"
      ]
     },
     "execution_count": 10,
     "metadata": {},
     "output_type": "execute_result"
    }
   ],
   "source": [
    "df.head()"
   ]
  },
  {
   "cell_type": "markdown",
   "metadata": {
    "id": "q7bnnj4MyRWW"
   },
   "source": [
    "### Split data"
   ]
  },
  {
   "cell_type": "code",
   "execution_count": 17,
   "metadata": {
    "id": "eh1NoOQt0cKk"
   },
   "outputs": [],
   "source": [
    "col_x = df.columns[1:]\n",
    "col_y = df.columns[0]"
   ]
  },
  {
   "cell_type": "code",
   "execution_count": 18,
   "metadata": {
    "id": "7y8JRdR_yS40"
   },
   "outputs": [],
   "source": [
    "x_train, x_test, y_train, y_test = train_test_split(df[col_x], df[col_y], shuffle=True, random_state=0, train_size=0.8)"
   ]
  },
  {
   "cell_type": "markdown",
   "metadata": {
    "id": "-EV0rVrb1VPB"
   },
   "source": [
    "### Scale data"
   ]
  },
  {
   "cell_type": "code",
   "execution_count": 19,
   "metadata": {
    "id": "9K1e9MEx1Xi_"
   },
   "outputs": [],
   "source": [
    "x_scaler = StandardScaler()\n",
    "x_train_std = x_scaler.fit_transform(x_train)\n",
    "x_test_std = x_scaler.transform(x_test)\n",
    "\n",
    "# y_scaler = StandardScaler()\n",
    "# y_train_std = y_scaler.fit_transform(y_train.to_numpy().reshape(-1, 1))\n",
    "# y_test_std = y_scaler.transform(y_test.to_numpy().reshape(-1, 1))"
   ]
  },
  {
   "cell_type": "markdown",
   "metadata": {
    "id": "-cORvzDttZ1J"
   },
   "source": [
    "## Create a simple neural network model\n",
    "\n",
    "To generate outputs of Integrated Gradients, we need a DL model."
   ]
  },
  {
   "cell_type": "code",
   "execution_count": 25,
   "metadata": {
    "colab": {
     "base_uri": "https://localhost:8080/"
    },
    "id": "9vTcFOBNwe1Q",
    "outputId": "f0061ab5-3a79-4b15-aabd-7969bec41325"
   },
   "outputs": [
    {
     "name": "stdout",
     "output_type": "stream",
     "text": [
      "Model: \"sequential_1\"\n",
      "_________________________________________________________________\n",
      " Layer (type)                Output Shape              Param #   \n",
      "=================================================================\n",
      " dense_5 (Dense)             (None, 32)                1536      \n",
      "                                                                 \n",
      " activation_5 (Activation)   (None, 32)                0         \n",
      "                                                                 \n",
      " dense_6 (Dense)             (None, 32)                1056      \n",
      "                                                                 \n",
      " activation_6 (Activation)   (None, 32)                0         \n",
      "                                                                 \n",
      " dense_7 (Dense)             (None, 64)                2048      \n",
      "                                                                 \n",
      " batch_normalization_2 (Batc  (None, 64)               256       \n",
      " hNormalization)                                                 \n",
      "                                                                 \n",
      " activation_7 (Activation)   (None, 64)                0         \n",
      "                                                                 \n",
      " dense_8 (Dense)             (None, 64)                4096      \n",
      "                                                                 \n",
      " batch_normalization_3 (Batc  (None, 64)               256       \n",
      " hNormalization)                                                 \n",
      "                                                                 \n",
      " activation_8 (Activation)   (None, 64)                0         \n",
      "                                                                 \n",
      " dense_9 (Dense)             (None, 1)                 65        \n",
      "                                                                 \n",
      " activation_9 (Activation)   (None, 1)                 0         \n",
      "                                                                 \n",
      "=================================================================\n",
      "Total params: 9,313\n",
      "Trainable params: 9,057\n",
      "Non-trainable params: 256\n",
      "_________________________________________________________________\n"
     ]
    }
   ],
   "source": [
    "model = tf.keras.Sequential()\n",
    "model.add(tf.keras.layers.Dense(32, input_dim=df.shape[-1]-1))\n",
    "model.add(tf.keras.layers.Activation('relu'))\n",
    "model.add(tf.keras.layers.Dense(32))\n",
    "model.add(tf.keras.layers.Activation('relu'))\n",
    "model.add(tf.keras.layers.Dense(64, use_bias=False))\n",
    "model.add(tf.keras.layers.BatchNormalization())\n",
    "model.add(tf.keras.layers.Activation('relu'))\n",
    "model.add(tf.keras.layers.Dense(64, use_bias=False))\n",
    "model.add(tf.keras.layers.BatchNormalization())\n",
    "model.add(tf.keras.layers.Activation('relu'))\n",
    "model.add(tf.keras.layers.Dense(1))\n",
    "model.add(tf.keras.layers.Activation('sigmoid'))\n",
    "# model.compile(loss='mean_squared_error', optimizer='adam')#, metrics=['accuracy'])\n",
    "model.compile(loss='binary_crossentropy', optimizer='adam', metrics=['accuracy'])\n",
    "model.summary()"
   ]
  },
  {
   "cell_type": "code",
   "execution_count": 26,
   "metadata": {
    "colab": {
     "base_uri": "https://localhost:8080/"
    },
    "id": "xzcE8qgOwymP",
    "outputId": "6f1bb7ca-cbeb-4ccd-d2b7-2530cf5f01c7"
   },
   "outputs": [
    {
     "name": "stdout",
     "output_type": "stream",
     "text": [
      "Epoch 1/100\n",
      "29/29 [==============================] - 2s 12ms/step - loss: 0.5554 - accuracy: 0.7544 - val_loss: 0.6015 - val_accuracy: 0.8696 - lr: 0.0010\n",
      "Epoch 2/100\n",
      "29/29 [==============================] - 0s 4ms/step - loss: 0.3464 - accuracy: 0.8935 - val_loss: 0.5028 - val_accuracy: 0.8851 - lr: 0.0010\n",
      "Epoch 3/100\n",
      "29/29 [==============================] - 0s 5ms/step - loss: 0.2845 - accuracy: 0.8996 - val_loss: 0.4312 - val_accuracy: 0.8873 - lr: 0.0010\n",
      "Epoch 4/100\n",
      "29/29 [==============================] - 0s 4ms/step - loss: 0.2544 - accuracy: 0.9057 - val_loss: 0.3738 - val_accuracy: 0.8851 - lr: 0.0010\n",
      "Epoch 5/100\n",
      "29/29 [==============================] - 0s 5ms/step - loss: 0.2338 - accuracy: 0.9090 - val_loss: 0.3305 - val_accuracy: 0.8873 - lr: 0.0010\n",
      "Epoch 6/100\n",
      "29/29 [==============================] - 0s 4ms/step - loss: 0.2171 - accuracy: 0.9137 - val_loss: 0.3019 - val_accuracy: 0.8884 - lr: 0.0010\n",
      "Epoch 7/100\n",
      "29/29 [==============================] - 0s 4ms/step - loss: 0.2038 - accuracy: 0.9162 - val_loss: 0.2793 - val_accuracy: 0.8928 - lr: 0.0010\n",
      "Epoch 8/100\n",
      "29/29 [==============================] - 0s 4ms/step - loss: 0.1929 - accuracy: 0.9198 - val_loss: 0.2656 - val_accuracy: 0.8928 - lr: 0.0010\n",
      "Epoch 9/100\n",
      "29/29 [==============================] - 0s 4ms/step - loss: 0.1835 - accuracy: 0.9248 - val_loss: 0.2649 - val_accuracy: 0.8906 - lr: 0.0010\n",
      "Epoch 10/100\n",
      "29/29 [==============================] - 0s 4ms/step - loss: 0.1726 - accuracy: 0.9278 - val_loss: 0.2626 - val_accuracy: 0.8950 - lr: 0.0010\n",
      "Epoch 11/100\n",
      "29/29 [==============================] - 0s 5ms/step - loss: 0.1620 - accuracy: 0.9339 - val_loss: 0.2658 - val_accuracy: 0.8928 - lr: 0.0010\n",
      "Epoch 12/100\n",
      "29/29 [==============================] - 0s 5ms/step - loss: 0.1545 - accuracy: 0.9394 - val_loss: 0.2678 - val_accuracy: 0.8906 - lr: 0.0010\n",
      "Epoch 13/100\n",
      "29/29 [==============================] - 0s 4ms/step - loss: 0.1486 - accuracy: 0.9428 - val_loss: 0.2701 - val_accuracy: 0.8928 - lr: 0.0010\n",
      "Epoch 14/100\n",
      "19/29 [==================>...........] - ETA: 0s - loss: 0.1400 - accuracy: 0.9445\n",
      "Epoch 14: ReduceLROnPlateau reducing learning rate to 0.0005000000237487257.\n",
      "29/29 [==============================] - 0s 4ms/step - loss: 0.1396 - accuracy: 0.9450 - val_loss: 0.2714 - val_accuracy: 0.8851 - lr: 0.0010\n",
      "Epoch 15/100\n",
      "29/29 [==============================] - 0s 4ms/step - loss: 0.1302 - accuracy: 0.9497 - val_loss: 0.2743 - val_accuracy: 0.8829 - lr: 5.0000e-04\n",
      "Epoch 16/100\n",
      "29/29 [==============================] - 0s 4ms/step - loss: 0.1241 - accuracy: 0.9530 - val_loss: 0.2802 - val_accuracy: 0.8862 - lr: 5.0000e-04\n",
      "Epoch 17/100\n",
      "29/29 [==============================] - 0s 4ms/step - loss: 0.1175 - accuracy: 0.9599 - val_loss: 0.2851 - val_accuracy: 0.8862 - lr: 5.0000e-04\n",
      "Epoch 18/100\n",
      "15/29 [==============>...............] - ETA: 0s - loss: 0.1092 - accuracy: 0.9599\n",
      "Epoch 18: ReduceLROnPlateau reducing learning rate to 0.0002500000118743628.\n",
      "29/29 [==============================] - 0s 5ms/step - loss: 0.1146 - accuracy: 0.9580 - val_loss: 0.2908 - val_accuracy: 0.8873 - lr: 5.0000e-04\n",
      "Epoch 19/100\n",
      "29/29 [==============================] - 0s 4ms/step - loss: 0.1091 - accuracy: 0.9621 - val_loss: 0.2889 - val_accuracy: 0.8873 - lr: 2.5000e-04\n",
      "Epoch 20/100\n",
      "29/29 [==============================] - 0s 5ms/step - loss: 0.1054 - accuracy: 0.9624 - val_loss: 0.2922 - val_accuracy: 0.8895 - lr: 2.5000e-04\n",
      "Epoch 21/100\n",
      "29/29 [==============================] - 0s 4ms/step - loss: 0.1042 - accuracy: 0.9638 - val_loss: 0.2931 - val_accuracy: 0.8862 - lr: 2.5000e-04\n",
      "Epoch 22/100\n",
      "18/29 [=================>............] - ETA: 0s - loss: 0.0989 - accuracy: 0.9683\n",
      "Epoch 22: ReduceLROnPlateau reducing learning rate to 0.0001250000059371814.\n",
      "29/29 [==============================] - 0s 4ms/step - loss: 0.1023 - accuracy: 0.9679 - val_loss: 0.2975 - val_accuracy: 0.8840 - lr: 2.5000e-04\n",
      "Epoch 23/100\n",
      "29/29 [==============================] - 0s 4ms/step - loss: 0.1002 - accuracy: 0.9674 - val_loss: 0.2975 - val_accuracy: 0.8851 - lr: 1.2500e-04\n",
      "Epoch 24/100\n",
      "29/29 [==============================] - 0s 5ms/step - loss: 0.0977 - accuracy: 0.9693 - val_loss: 0.2983 - val_accuracy: 0.8862 - lr: 1.2500e-04\n",
      "Epoch 25/100\n",
      "29/29 [==============================] - 0s 5ms/step - loss: 0.0983 - accuracy: 0.9663 - val_loss: 0.3010 - val_accuracy: 0.8851 - lr: 1.2500e-04\n",
      "Epoch 26/100\n",
      "15/29 [==============>...............] - ETA: 0s - loss: 0.0996 - accuracy: 0.9693\n",
      "Epoch 26: ReduceLROnPlateau reducing learning rate to 6.25000029685907e-05.\n",
      "29/29 [==============================] - 0s 5ms/step - loss: 0.0977 - accuracy: 0.9701 - val_loss: 0.2994 - val_accuracy: 0.8873 - lr: 1.2500e-04\n",
      "Epoch 27/100\n",
      "29/29 [==============================] - 0s 4ms/step - loss: 0.0975 - accuracy: 0.9657 - val_loss: 0.3005 - val_accuracy: 0.8873 - lr: 6.2500e-05\n",
      "Epoch 28/100\n",
      "29/29 [==============================] - 0s 5ms/step - loss: 0.0958 - accuracy: 0.9671 - val_loss: 0.3008 - val_accuracy: 0.8862 - lr: 6.2500e-05\n",
      "Epoch 29/100\n",
      "29/29 [==============================] - 0s 4ms/step - loss: 0.0950 - accuracy: 0.9685 - val_loss: 0.3015 - val_accuracy: 0.8851 - lr: 6.2500e-05\n",
      "Epoch 30/100\n",
      "18/29 [=================>............] - ETA: 0s - loss: 0.0991 - accuracy: 0.9657\n",
      "Epoch 30: ReduceLROnPlateau reducing learning rate to 3.125000148429535e-05.\n",
      "Restoring model weights from the end of the best epoch: 10.\n",
      "29/29 [==============================] - 0s 5ms/step - loss: 0.0965 - accuracy: 0.9679 - val_loss: 0.3027 - val_accuracy: 0.8840 - lr: 6.2500e-05\n",
      "Epoch 30: early stopping\n"
     ]
    }
   ],
   "source": [
    "epochs = 100\n",
    "batch_size = 128\n",
    "reduce_lr = tf.keras.callbacks.ReduceLROnPlateau(monitor='val_loss', factor=0.5, patience=4, min_lr=0.00001, verbose=1)\n",
    "early_stop = tf.keras.callbacks.EarlyStopping(monitor='val_loss', verbose=1, restore_best_weights=True, patience=20)\n",
    "hist = model.fit(x_train_std, y_train, epochs=epochs, batch_size=batch_size, \n",
    "                 validation_data=(x_test_std, y_test), callbacks=[reduce_lr, early_stop])"
   ]
  },
  {
   "cell_type": "code",
   "execution_count": 27,
   "metadata": {
    "id": "sU__lJbl1QFo"
   },
   "outputs": [],
   "source": [
    "y_pred = model.predict(x_test_std).reshape(-1)"
   ]
  },
  {
   "cell_type": "code",
   "execution_count": 28,
   "metadata": {
    "colab": {
     "base_uri": "https://localhost:8080/"
    },
    "id": "VXuwlcsfF5JQ",
    "outputId": "962dfdd2-9bd4-4059-8548-8774cd02d74e"
   },
   "outputs": [
    {
     "name": "stdout",
     "output_type": "stream",
     "text": [
      "              precision    recall  f1-score   support\n",
      "\n",
      "       False     0.9811    0.9068    0.9425       858\n",
      "        True     0.2857    0.6809    0.4025        47\n",
      "\n",
      "    accuracy                         0.8950       905\n",
      "   macro avg     0.6334    0.7938    0.6725       905\n",
      "weighted avg     0.9450    0.8950    0.9144       905\n",
      "\n"
     ]
    }
   ],
   "source": [
    "print(classification_report(y_pred > 0.5, y_test, digits=4))"
   ]
  },
  {
   "cell_type": "markdown",
   "metadata": {
    "id": "TzjqtcOwIRzr"
   },
   "source": [
    "\n",
    "## Examples of Integrated Gradients"
   ]
  },
  {
   "cell_type": "markdown",
   "metadata": {
    "id": "mxwRyQ7e0oIK"
   },
   "source": [
    "### Generate contributions of each variable\n",
    "\n",
    "Import **igtab** to generate results of explaining the ML model."
   ]
  },
  {
   "cell_type": "code",
   "execution_count": 43,
   "metadata": {
    "id": "Ohf4d3afWFfJ"
   },
   "outputs": [],
   "source": [
    "from igtab import Explainer"
   ]
  },
  {
   "cell_type": "code",
   "execution_count": null,
   "metadata": {
    "id": "C28-9XkKgXVj"
   },
   "outputs": [],
   "source": [
    "# remove the last layer, sigmoid activation.\n",
    "model2 = tf.keras.Model(inputs=model.inputs, outputs=model.layers[-2].output)"
   ]
  },
  {
   "cell_type": "code",
   "execution_count": 68,
   "metadata": {
    "id": "fFEnUFaFhAXB"
   },
   "outputs": [],
   "source": [
    "explainer = Explainer(model=model2, m_steps=50, type='sigmoid')"
   ]
  },
  {
   "cell_type": "code",
   "execution_count": 69,
   "metadata": {
    "colab": {
     "base_uri": "https://localhost:8080/"
    },
    "id": "t5OoEVe5mMWS",
    "outputId": "c13a6142-5c17-4b68-c067-592b2400caf5"
   },
   "outputs": [
    {
     "name": "stderr",
     "output_type": "stream",
     "text": [
      "100%|██████████| 905/905 [00:06<00:00, 143.61it/s]\n"
     ]
    }
   ],
   "source": [
    "res = explainer.ig_values(x_test_std)"
   ]
  },
  {
   "cell_type": "code",
   "execution_count": 70,
   "metadata": {
    "colab": {
     "base_uri": "https://localhost:8080/"
    },
    "id": "Tlhhe8S4jJXG",
    "outputId": "ba98b21e-6fcf-434c-b33a-2378a9d16b31"
   },
   "outputs": [
    {
     "data": {
      "text/plain": [
       "(905, 47)"
      ]
     },
     "execution_count": 70,
     "metadata": {},
     "output_type": "execute_result"
    }
   ],
   "source": [
    "res.shape"
   ]
  },
  {
   "cell_type": "markdown",
   "metadata": {
    "id": "sr4wFCD9z_go"
   },
   "source": [
    "The result has been created with the shape 4128 by 8.\n"
   ]
  },
  {
   "cell_type": "markdown",
   "metadata": {
    "id": "L4JvKoj0TAX0"
   },
   "source": [
    "### Explaining meanings of generated contributions \n",
    "\n",
    "Convert the result into a pandas dataframe."
   ]
  },
  {
   "cell_type": "code",
   "execution_count": 72,
   "metadata": {
    "id": "HK_XuptL1GY6"
   },
   "outputs": [],
   "source": [
    "df_res = pd.DataFrame(res, columns=df.columns[1:])"
   ]
  },
  {
   "cell_type": "code",
   "execution_count": 73,
   "metadata": {
    "colab": {
     "base_uri": "https://localhost:8080/",
     "height": 300
    },
    "id": "1xNC9b_4Q1-F",
    "outputId": "322e9b29-a92f-4e12-fc6c-094ee7dd4d8c"
   },
   "outputs": [
    {
     "data": {
      "text/html": [
       "\n",
       "  <div id=\"df-b565bebf-f87e-40b4-8a0a-c614f366b190\">\n",
       "    <div class=\"colab-df-container\">\n",
       "      <div>\n",
       "<style scoped>\n",
       "    .dataframe tbody tr th:only-of-type {\n",
       "        vertical-align: middle;\n",
       "    }\n",
       "\n",
       "    .dataframe tbody tr th {\n",
       "        vertical-align: top;\n",
       "    }\n",
       "\n",
       "    .dataframe thead th {\n",
       "        text-align: right;\n",
       "    }\n",
       "</style>\n",
       "<table border=\"1\" class=\"dataframe\">\n",
       "  <thead>\n",
       "    <tr style=\"text-align: right;\">\n",
       "      <th></th>\n",
       "      <th>default</th>\n",
       "      <th>housing</th>\n",
       "      <th>loan</th>\n",
       "      <th>age</th>\n",
       "      <th>balance</th>\n",
       "      <th>duration</th>\n",
       "      <th>campaign</th>\n",
       "      <th>pdays</th>\n",
       "      <th>previous</th>\n",
       "      <th>job_admin.</th>\n",
       "      <th>...</th>\n",
       "      <th>month_jun</th>\n",
       "      <th>month_mar</th>\n",
       "      <th>month_may</th>\n",
       "      <th>month_nov</th>\n",
       "      <th>month_oct</th>\n",
       "      <th>month_sep</th>\n",
       "      <th>poutcome_failure</th>\n",
       "      <th>poutcome_other</th>\n",
       "      <th>poutcome_success</th>\n",
       "      <th>poutcome_unknown</th>\n",
       "    </tr>\n",
       "  </thead>\n",
       "  <tbody>\n",
       "    <tr>\n",
       "      <th>0</th>\n",
       "      <td>-0.000010</td>\n",
       "      <td>-0.003251</td>\n",
       "      <td>0.003575</td>\n",
       "      <td>0.001090</td>\n",
       "      <td>0.000177</td>\n",
       "      <td>0.017938</td>\n",
       "      <td>-0.000589</td>\n",
       "      <td>-0.003464</td>\n",
       "      <td>0.000396</td>\n",
       "      <td>-0.001260</td>\n",
       "      <td>...</td>\n",
       "      <td>-0.001756</td>\n",
       "      <td>-0.001562</td>\n",
       "      <td>0.001130</td>\n",
       "      <td>0.000921</td>\n",
       "      <td>-0.000799</td>\n",
       "      <td>0.000316</td>\n",
       "      <td>-0.000384</td>\n",
       "      <td>0.000159</td>\n",
       "      <td>-0.002685</td>\n",
       "      <td>0.003127</td>\n",
       "    </tr>\n",
       "    <tr>\n",
       "      <th>1</th>\n",
       "      <td>-0.000447</td>\n",
       "      <td>0.001910</td>\n",
       "      <td>0.001502</td>\n",
       "      <td>-0.002482</td>\n",
       "      <td>0.002709</td>\n",
       "      <td>-0.004865</td>\n",
       "      <td>-0.000356</td>\n",
       "      <td>0.000206</td>\n",
       "      <td>0.000430</td>\n",
       "      <td>0.000779</td>\n",
       "      <td>...</td>\n",
       "      <td>-0.000321</td>\n",
       "      <td>-0.000260</td>\n",
       "      <td>0.002538</td>\n",
       "      <td>0.001750</td>\n",
       "      <td>-0.000099</td>\n",
       "      <td>0.000256</td>\n",
       "      <td>-0.000359</td>\n",
       "      <td>0.000613</td>\n",
       "      <td>-0.001058</td>\n",
       "      <td>-0.000462</td>\n",
       "    </tr>\n",
       "    <tr>\n",
       "      <th>2</th>\n",
       "      <td>-0.006094</td>\n",
       "      <td>-0.040100</td>\n",
       "      <td>0.007026</td>\n",
       "      <td>-0.012875</td>\n",
       "      <td>0.010489</td>\n",
       "      <td>0.181904</td>\n",
       "      <td>0.016328</td>\n",
       "      <td>-0.011612</td>\n",
       "      <td>0.001745</td>\n",
       "      <td>0.003810</td>\n",
       "      <td>...</td>\n",
       "      <td>-0.003866</td>\n",
       "      <td>-0.002842</td>\n",
       "      <td>0.014655</td>\n",
       "      <td>-0.017364</td>\n",
       "      <td>-0.001332</td>\n",
       "      <td>0.000352</td>\n",
       "      <td>0.004598</td>\n",
       "      <td>-0.007937</td>\n",
       "      <td>-0.003161</td>\n",
       "      <td>0.019850</td>\n",
       "    </tr>\n",
       "    <tr>\n",
       "      <th>3</th>\n",
       "      <td>-0.001382</td>\n",
       "      <td>-0.012702</td>\n",
       "      <td>-0.017615</td>\n",
       "      <td>-0.000906</td>\n",
       "      <td>-0.002344</td>\n",
       "      <td>-0.000249</td>\n",
       "      <td>-0.000940</td>\n",
       "      <td>0.004731</td>\n",
       "      <td>0.007934</td>\n",
       "      <td>0.018602</td>\n",
       "      <td>...</td>\n",
       "      <td>0.004443</td>\n",
       "      <td>-0.000239</td>\n",
       "      <td>0.008088</td>\n",
       "      <td>0.037697</td>\n",
       "      <td>-0.002107</td>\n",
       "      <td>0.002162</td>\n",
       "      <td>0.000821</td>\n",
       "      <td>-0.001769</td>\n",
       "      <td>-0.002420</td>\n",
       "      <td>0.004970</td>\n",
       "    </tr>\n",
       "    <tr>\n",
       "      <th>4</th>\n",
       "      <td>-0.000433</td>\n",
       "      <td>0.000636</td>\n",
       "      <td>0.002395</td>\n",
       "      <td>-0.000068</td>\n",
       "      <td>0.000239</td>\n",
       "      <td>-0.005497</td>\n",
       "      <td>-0.000159</td>\n",
       "      <td>-0.001732</td>\n",
       "      <td>-0.001047</td>\n",
       "      <td>0.003631</td>\n",
       "      <td>...</td>\n",
       "      <td>0.003269</td>\n",
       "      <td>-0.000982</td>\n",
       "      <td>0.008653</td>\n",
       "      <td>0.018984</td>\n",
       "      <td>-0.001583</td>\n",
       "      <td>0.000748</td>\n",
       "      <td>0.001597</td>\n",
       "      <td>-0.001564</td>\n",
       "      <td>-0.001959</td>\n",
       "      <td>-0.001069</td>\n",
       "    </tr>\n",
       "  </tbody>\n",
       "</table>\n",
       "<p>5 rows × 47 columns</p>\n",
       "</div>\n",
       "      <button class=\"colab-df-convert\" onclick=\"convertToInteractive('df-b565bebf-f87e-40b4-8a0a-c614f366b190')\"\n",
       "              title=\"Convert this dataframe to an interactive table.\"\n",
       "              style=\"display:none;\">\n",
       "        \n",
       "  <svg xmlns=\"http://www.w3.org/2000/svg\" height=\"24px\"viewBox=\"0 0 24 24\"\n",
       "       width=\"24px\">\n",
       "    <path d=\"M0 0h24v24H0V0z\" fill=\"none\"/>\n",
       "    <path d=\"M18.56 5.44l.94 2.06.94-2.06 2.06-.94-2.06-.94-.94-2.06-.94 2.06-2.06.94zm-11 1L8.5 8.5l.94-2.06 2.06-.94-2.06-.94L8.5 2.5l-.94 2.06-2.06.94zm10 10l.94 2.06.94-2.06 2.06-.94-2.06-.94-.94-2.06-.94 2.06-2.06.94z\"/><path d=\"M17.41 7.96l-1.37-1.37c-.4-.4-.92-.59-1.43-.59-.52 0-1.04.2-1.43.59L10.3 9.45l-7.72 7.72c-.78.78-.78 2.05 0 2.83L4 21.41c.39.39.9.59 1.41.59.51 0 1.02-.2 1.41-.59l7.78-7.78 2.81-2.81c.8-.78.8-2.07 0-2.86zM5.41 20L4 18.59l7.72-7.72 1.47 1.35L5.41 20z\"/>\n",
       "  </svg>\n",
       "      </button>\n",
       "      \n",
       "  <style>\n",
       "    .colab-df-container {\n",
       "      display:flex;\n",
       "      flex-wrap:wrap;\n",
       "      gap: 12px;\n",
       "    }\n",
       "\n",
       "    .colab-df-convert {\n",
       "      background-color: #E8F0FE;\n",
       "      border: none;\n",
       "      border-radius: 50%;\n",
       "      cursor: pointer;\n",
       "      display: none;\n",
       "      fill: #1967D2;\n",
       "      height: 32px;\n",
       "      padding: 0 0 0 0;\n",
       "      width: 32px;\n",
       "    }\n",
       "\n",
       "    .colab-df-convert:hover {\n",
       "      background-color: #E2EBFA;\n",
       "      box-shadow: 0px 1px 2px rgba(60, 64, 67, 0.3), 0px 1px 3px 1px rgba(60, 64, 67, 0.15);\n",
       "      fill: #174EA6;\n",
       "    }\n",
       "\n",
       "    [theme=dark] .colab-df-convert {\n",
       "      background-color: #3B4455;\n",
       "      fill: #D2E3FC;\n",
       "    }\n",
       "\n",
       "    [theme=dark] .colab-df-convert:hover {\n",
       "      background-color: #434B5C;\n",
       "      box-shadow: 0px 1px 3px 1px rgba(0, 0, 0, 0.15);\n",
       "      filter: drop-shadow(0px 1px 2px rgba(0, 0, 0, 0.3));\n",
       "      fill: #FFFFFF;\n",
       "    }\n",
       "  </style>\n",
       "\n",
       "      <script>\n",
       "        const buttonEl =\n",
       "          document.querySelector('#df-b565bebf-f87e-40b4-8a0a-c614f366b190 button.colab-df-convert');\n",
       "        buttonEl.style.display =\n",
       "          google.colab.kernel.accessAllowed ? 'block' : 'none';\n",
       "\n",
       "        async function convertToInteractive(key) {\n",
       "          const element = document.querySelector('#df-b565bebf-f87e-40b4-8a0a-c614f366b190');\n",
       "          const dataTable =\n",
       "            await google.colab.kernel.invokeFunction('convertToInteractive',\n",
       "                                                     [key], {});\n",
       "          if (!dataTable) return;\n",
       "\n",
       "          const docLinkHtml = 'Like what you see? Visit the ' +\n",
       "            '<a target=\"_blank\" href=https://colab.research.google.com/notebooks/data_table.ipynb>data table notebook</a>'\n",
       "            + ' to learn more about interactive tables.';\n",
       "          element.innerHTML = '';\n",
       "          dataTable['output_type'] = 'display_data';\n",
       "          await google.colab.output.renderOutput(dataTable, element);\n",
       "          const docLink = document.createElement('div');\n",
       "          docLink.innerHTML = docLinkHtml;\n",
       "          element.appendChild(docLink);\n",
       "        }\n",
       "      </script>\n",
       "    </div>\n",
       "  </div>\n",
       "  "
      ],
      "text/plain": [
       "    default   housing      loan       age   balance  duration  campaign  \\\n",
       "0 -0.000010 -0.003251  0.003575  0.001090  0.000177  0.017938 -0.000589   \n",
       "1 -0.000447  0.001910  0.001502 -0.002482  0.002709 -0.004865 -0.000356   \n",
       "2 -0.006094 -0.040100  0.007026 -0.012875  0.010489  0.181904  0.016328   \n",
       "3 -0.001382 -0.012702 -0.017615 -0.000906 -0.002344 -0.000249 -0.000940   \n",
       "4 -0.000433  0.000636  0.002395 -0.000068  0.000239 -0.005497 -0.000159   \n",
       "\n",
       "      pdays  previous  job_admin.  ...  month_jun  month_mar  month_may  \\\n",
       "0 -0.003464  0.000396   -0.001260  ...  -0.001756  -0.001562   0.001130   \n",
       "1  0.000206  0.000430    0.000779  ...  -0.000321  -0.000260   0.002538   \n",
       "2 -0.011612  0.001745    0.003810  ...  -0.003866  -0.002842   0.014655   \n",
       "3  0.004731  0.007934    0.018602  ...   0.004443  -0.000239   0.008088   \n",
       "4 -0.001732 -0.001047    0.003631  ...   0.003269  -0.000982   0.008653   \n",
       "\n",
       "   month_nov  month_oct  month_sep  poutcome_failure  poutcome_other  \\\n",
       "0   0.000921  -0.000799   0.000316         -0.000384        0.000159   \n",
       "1   0.001750  -0.000099   0.000256         -0.000359        0.000613   \n",
       "2  -0.017364  -0.001332   0.000352          0.004598       -0.007937   \n",
       "3   0.037697  -0.002107   0.002162          0.000821       -0.001769   \n",
       "4   0.018984  -0.001583   0.000748          0.001597       -0.001564   \n",
       "\n",
       "   poutcome_success  poutcome_unknown  \n",
       "0         -0.002685          0.003127  \n",
       "1         -0.001058         -0.000462  \n",
       "2         -0.003161          0.019850  \n",
       "3         -0.002420          0.004970  \n",
       "4         -0.001959         -0.001069  \n",
       "\n",
       "[5 rows x 47 columns]"
      ]
     },
     "execution_count": 73,
     "metadata": {},
     "output_type": "execute_result"
    }
   ],
   "source": [
    "df_res.head()"
   ]
  },
  {
   "cell_type": "markdown",
   "metadata": {
    "id": "4UDt-EGiRZYh"
   },
   "source": [
    "Now, we are able to see contributions of each variable to each row (observation).\n",
    "\n",
    "The sum of all contributions of each row is the corresponding predicted y value approximately."
   ]
  },
  {
   "cell_type": "markdown",
   "metadata": {
    "id": "5MbakGGjjeOR"
   },
   "source": [
    "## Visualization\n",
    "\n",
    "\n",
    "In order to visualize the result, we can reuse visualizing functions from SHAP."
   ]
  },
  {
   "cell_type": "code",
   "execution_count": 77,
   "metadata": {
    "id": "sywld6WgehwZ"
   },
   "outputs": [],
   "source": [
    "import shap"
   ]
  },
  {
   "cell_type": "markdown",
   "metadata": {
    "id": "akvfCtfPjPcf"
   },
   "source": [
    "### Summary Plot"
   ]
  },
  {
   "cell_type": "code",
   "execution_count": 101,
   "metadata": {
    "colab": {
     "base_uri": "https://localhost:8080/",
     "height": 585
    },
    "id": "trhncy9qjVLn",
    "outputId": "5e604ef9-bd16-4408-a67d-9b11b831f664"
   },
   "outputs": [
    {
     "data": {
      "image/png": "[encoded data removed]",
      "text/plain": [
       "<Figure size 576x684 with 2 Axes>"
      ]
     },
     "metadata": {
      "needs_background": "light"
     },
     "output_type": "display_data"
    }
   ],
   "source": [
    "shap.summary_plot(res, x_test)"
   ]
  },
  {
   "cell_type": "markdown",
   "metadata": {
    "id": "ZznaYHgihV82"
   },
   "source": [
    "### Force plot"
   ]
  },
  {
   "cell_type": "code",
   "execution_count": 81,
   "metadata": {
    "id": "yWKjW4xehlF3"
   },
   "outputs": [],
   "source": [
    "x_test = x_test.reset_index(drop=True)"
   ]
  },
  {
   "cell_type": "code",
   "execution_count": 91,
   "metadata": {
    "colab": {
     "base_uri": "https://localhost:8080/",
     "height": 234
    },
    "id": "AKnOnkedhRxQ",
    "outputId": "f76fc146-cee2-4bd7-9052-00ff3c509123"
   },
   "outputs": [
    {
     "data": {
      "image/png": "[encoded data removed]",
      "text/plain": [
       "<Figure size 1440x216 with 1 Axes>"
      ]
     },
     "metadata": {
      "needs_background": "light"
     },
     "output_type": "display_data"
    }
   ],
   "source": [
    "shap.force_plot(0, res[0, :], x_test.iloc[0, :], matplotlib=True)"
   ]
  },
  {
   "cell_type": "code",
   "execution_count": 99,
   "metadata": {
    "colab": {
     "base_uri": "https://localhost:8080/",
     "height": 293
    },
    "id": "cSxiVmysh5sf",
    "outputId": "be48761c-603b-4413-fc9a-2d2d41a5cc40"
   },
   "outputs": [
    {
     "data": {
      "image/png": "[encoded data removed]",
      "text/plain": [
       "<Figure size 1440x216 with 1 Axes>"
      ]
     },
     "metadata": {
      "needs_background": "light"
     },
     "output_type": "display_data"
    }
   ],
   "source": [
    "ind = np.where(y_pred > 0.7)[0]\n",
    "shap.force_plot(0, res[ind[0], :], x_test.iloc[ind[0], :], matplotlib=True)"
   ]
  },
  {
   "cell_type": "code",
   "execution_count": 100,
   "metadata": {
    "colab": {
     "base_uri": "https://localhost:8080/",
     "height": 231
    },
    "id": "MY14djzjh_E4",
    "outputId": "6120f19c-7fa0-4518-82e4-a292bc865209"
   },
   "outputs": [
    {
     "data": {
      "image/png": "[encoded data removed]",
      "text/plain": [
       "<Figure size 1440x216 with 1 Axes>"
      ]
     },
     "metadata": {
      "needs_background": "light"
     },
     "output_type": "display_data"
    }
   ],
   "source": [
    "shap.force_plot(0, res[ind[1], :], x_test.iloc[ind[1], :], matplotlib=True)"
   ]
  }
 ],
 "metadata": {
  "colab": {
   "collapsed_sections": [],
   "name": "Example_of_Integrated_Gradients_for_tabular_data.ipynb",
   "provenance": []
  },
  "kernelspec": {
   "display_name": "Python 3",
   "language": "python",
   "name": "python3"
  },
  "language_info": {
   "codemirror_mode": {
    "name": "ipython",
    "version": 3
   },
   "file_extension": ".py",
   "mimetype": "text/x-python",
   "name": "python",
   "nbconvert_exporter": "python",
   "pygments_lexer": "ipython3",
   "version": "3.8.9"
  }
 },
 "nbformat": 4,
 "nbformat_minor": 4
}

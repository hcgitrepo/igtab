{
  "cells": [
    {
      "cell_type": "markdown",
      "metadata": {
        "id": "tRoKp4U_hWrR"
      },
      "source": [
        "# Implementation of Integrated Gradients for tabular data"
      ]
    },
    {
      "cell_type": "markdown",
      "metadata": {
        "id": "aUA1mVOOhcYh"
      },
      "source": [
        "## Introduction\n",
        "\n",
        "Integrated Gradients is introduced by this paper, Axiomatic Attribution for Deep Networks. (https://arxiv.org/abs/1703.01365) Google also introduced this algorithm to explain attributions of image data in https://www.tensorflow.org/tutorials/interpretability/integrated_gradients. However, one of the limitations is that this sample code is for image data, so it cannot be applied directly to tabular data. The goal of this document is to convert the source code into a modified version which works on tabular data with small changes.\n",
        "\n",
        "The importance of explaining outputs of predictions from ML models is becoming more and more greater. Especially, for many business cases, decision makers want to know how a ML model makes its outcome in order to avoid potential problems or to understand how each variable relates to a response variable. Many data sets in the business environment consists of tabular data, so Integrated Gradients for tabular data will be very useful for those who want to explain their deep learning models.\n",
        "\n",
        "In the last step of this document, everything is combined in one class in Python, so you will be able to use this python module in your project."
      ]
    },
    {
      "cell_type": "markdown",
      "metadata": {
        "id": "xnB7rrOCrFTL"
      },
      "source": [
        "## Load libraries"
      ]
    },
    {
      "cell_type": "code",
      "execution_count": null,
      "metadata": {
        "id": "QmDqvIxujk9_"
      },
      "outputs": [],
      "source": [
        "import matplotlib.pylab as plt\n",
        "import numpy as np\n",
        "import tensorflow as tf\n",
        "from sklearn import datasets\n",
        "import pandas as pd\n",
        "from sklearn.model_selection import train_test_split\n",
        "from sklearn.preprocessing import StandardScaler\n",
        "import seaborn as sns\n",
        "from sklearn.metrics import *\n",
        "from tqdm import tqdm"
      ]
    },
    {
      "cell_type": "markdown",
      "metadata": {
        "id": "6QhXTvYxhq3l"
      },
      "source": [
        "## Prepare data\n",
        "\n",
        "I used california housing data for testing purpose.\n"
      ]
    },
    {
      "cell_type": "markdown",
      "metadata": {
        "id": "DQFXde6lwIAE"
      },
      "source": [
        "### Download california housing data"
      ]
    },
    {
      "cell_type": "code",
      "execution_count": null,
      "metadata": {
        "id": "1XU4tkqCrl6k"
      },
      "outputs": [],
      "source": [
        "calhousing = datasets.fetch_california_housing()"
      ]
    },
    {
      "cell_type": "code",
      "execution_count": null,
      "metadata": {
        "colab": {
          "base_uri": "https://localhost:8080/"
        },
        "id": "kUGrOopT3Plv",
        "outputId": "469ce1aa-9090-44c3-8609-b6caa9c79eb6"
      },
      "outputs": [
        {
          "output_type": "stream",
          "name": "stdout",
          "text": [
            ".. _california_housing_dataset:\n",
            "\n",
            "California Housing dataset\n",
            "--------------------------\n",
            "\n",
            "**Data Set Characteristics:**\n",
            "\n",
            "    :Number of Instances: 20640\n",
            "\n",
            "    :Number of Attributes: 8 numeric, predictive attributes and the target\n",
            "\n",
            "    :Attribute Information:\n",
            "        - MedInc        median income in block group\n",
            "        - HouseAge      median house age in block group\n",
            "        - AveRooms      average number of rooms per household\n",
            "        - AveBedrms     average number of bedrooms per household\n",
            "        - Population    block group population\n",
            "        - AveOccup      average number of household members\n",
            "        - Latitude      block group latitude\n",
            "        - Longitude     block group longitude\n",
            "\n",
            "    :Missing Attribute Values: None\n",
            "\n",
            "This dataset was obtained from the StatLib repository.\n",
            "https://www.dcc.fc.up.pt/~ltorgo/Regression/cal_housing.html\n",
            "\n",
            "The target variable is the median house value for California districts,\n",
            "expressed in hundreds of thousands of dollars ($100,000).\n",
            "\n",
            "This dataset was derived from the 1990 U.S. census, using one row per census\n",
            "block group. A block group is the smallest geographical unit for which the U.S.\n",
            "Census Bureau publishes sample data (a block group typically has a population\n",
            "of 600 to 3,000 people).\n",
            "\n",
            "An household is a group of people residing within a home. Since the average\n",
            "number of rooms and bedrooms in this dataset are provided per household, these\n",
            "columns may take surpinsingly large values for block groups with few households\n",
            "and many empty houses, such as vacation resorts.\n",
            "\n",
            "It can be downloaded/loaded using the\n",
            ":func:`sklearn.datasets.fetch_california_housing` function.\n",
            "\n",
            ".. topic:: References\n",
            "\n",
            "    - Pace, R. Kelley and Ronald Barry, Sparse Spatial Autoregressions,\n",
            "      Statistics and Probability Letters, 33 (1997) 291-297\n",
            "\n"
          ]
        }
      ],
      "source": [
        "print(calhousing['DESCR'])"
      ]
    },
    {
      "cell_type": "code",
      "execution_count": null,
      "metadata": {
        "id": "OGi_3BaXsLA2"
      },
      "outputs": [],
      "source": [
        "df = pd.concat([pd.DataFrame(calhousing['target']), pd.DataFrame(calhousing['data'])], axis=1)"
      ]
    },
    {
      "cell_type": "code",
      "execution_count": null,
      "metadata": {
        "id": "n7hwWERLsuwU"
      },
      "outputs": [],
      "source": [
        "df.columns = ['Target'] + calhousing['feature_names']"
      ]
    },
    {
      "cell_type": "code",
      "execution_count": null,
      "metadata": {
        "colab": {
          "base_uri": "https://localhost:8080/",
          "height": 206
        },
        "id": "WFjMdCbCtV_4",
        "outputId": "dff84088-20ca-4534-96f5-01821856182a"
      },
      "outputs": [
        {
          "output_type": "execute_result",
          "data": {
            "text/plain": [
              "   Target  MedInc  HouseAge  AveRooms  AveBedrms  Population  AveOccup  \\\n",
              "0   4.526  8.3252      41.0  6.984127   1.023810       322.0  2.555556   \n",
              "1   3.585  8.3014      21.0  6.238137   0.971880      2401.0  2.109842   \n",
              "2   3.521  7.2574      52.0  8.288136   1.073446       496.0  2.802260   \n",
              "3   3.413  5.6431      52.0  5.817352   1.073059       558.0  2.547945   \n",
              "4   3.422  3.8462      52.0  6.281853   1.081081       565.0  2.181467   \n",
              "\n",
              "   Latitude  Longitude  \n",
              "0     37.88    -122.23  \n",
              "1     37.86    -122.22  \n",
              "2     37.85    -122.24  \n",
              "3     37.85    -122.25  \n",
              "4     37.85    -122.25  "
            ],
            "text/html": [
              "\n",
              "  <div id=\"df-a4345fe5-0f09-436c-acc8-7beb16d2e364\">\n",
              "    <div class=\"colab-df-container\">\n",
              "      <div>\n",
              "<style scoped>\n",
              "    .dataframe tbody tr th:only-of-type {\n",
              "        vertical-align: middle;\n",
              "    }\n",
              "\n",
              "    .dataframe tbody tr th {\n",
              "        vertical-align: top;\n",
              "    }\n",
              "\n",
              "    .dataframe thead th {\n",
              "        text-align: right;\n",
              "    }\n",
              "</style>\n",
              "<table border=\"1\" class=\"dataframe\">\n",
              "  <thead>\n",
              "    <tr style=\"text-align: right;\">\n",
              "      <th></th>\n",
              "      <th>Target</th>\n",
              "      <th>MedInc</th>\n",
              "      <th>HouseAge</th>\n",
              "      <th>AveRooms</th>\n",
              "      <th>AveBedrms</th>\n",
              "      <th>Population</th>\n",
              "      <th>AveOccup</th>\n",
              "      <th>Latitude</th>\n",
              "      <th>Longitude</th>\n",
              "    </tr>\n",
              "  </thead>\n",
              "  <tbody>\n",
              "    <tr>\n",
              "      <th>0</th>\n",
              "      <td>4.526</td>\n",
              "      <td>8.3252</td>\n",
              "      <td>41.0</td>\n",
              "      <td>6.984127</td>\n",
              "      <td>1.023810</td>\n",
              "      <td>322.0</td>\n",
              "      <td>2.555556</td>\n",
              "      <td>37.88</td>\n",
              "      <td>-122.23</td>\n",
              "    </tr>\n",
              "    <tr>\n",
              "      <th>1</th>\n",
              "      <td>3.585</td>\n",
              "      <td>8.3014</td>\n",
              "      <td>21.0</td>\n",
              "      <td>6.238137</td>\n",
              "      <td>0.971880</td>\n",
              "      <td>2401.0</td>\n",
              "      <td>2.109842</td>\n",
              "      <td>37.86</td>\n",
              "      <td>-122.22</td>\n",
              "    </tr>\n",
              "    <tr>\n",
              "      <th>2</th>\n",
              "      <td>3.521</td>\n",
              "      <td>7.2574</td>\n",
              "      <td>52.0</td>\n",
              "      <td>8.288136</td>\n",
              "      <td>1.073446</td>\n",
              "      <td>496.0</td>\n",
              "      <td>2.802260</td>\n",
              "      <td>37.85</td>\n",
              "      <td>-122.24</td>\n",
              "    </tr>\n",
              "    <tr>\n",
              "      <th>3</th>\n",
              "      <td>3.413</td>\n",
              "      <td>5.6431</td>\n",
              "      <td>52.0</td>\n",
              "      <td>5.817352</td>\n",
              "      <td>1.073059</td>\n",
              "      <td>558.0</td>\n",
              "      <td>2.547945</td>\n",
              "      <td>37.85</td>\n",
              "      <td>-122.25</td>\n",
              "    </tr>\n",
              "    <tr>\n",
              "      <th>4</th>\n",
              "      <td>3.422</td>\n",
              "      <td>3.8462</td>\n",
              "      <td>52.0</td>\n",
              "      <td>6.281853</td>\n",
              "      <td>1.081081</td>\n",
              "      <td>565.0</td>\n",
              "      <td>2.181467</td>\n",
              "      <td>37.85</td>\n",
              "      <td>-122.25</td>\n",
              "    </tr>\n",
              "  </tbody>\n",
              "</table>\n",
              "</div>\n",
              "      <button class=\"colab-df-convert\" onclick=\"convertToInteractive('df-a4345fe5-0f09-436c-acc8-7beb16d2e364')\"\n",
              "              title=\"Convert this dataframe to an interactive table.\"\n",
              "              style=\"display:none;\">\n",
              "        \n",
              "  <svg xmlns=\"http://www.w3.org/2000/svg\" height=\"24px\"viewBox=\"0 0 24 24\"\n",
              "       width=\"24px\">\n",
              "    <path d=\"M0 0h24v24H0V0z\" fill=\"none\"/>\n",
              "    <path d=\"M18.56 5.44l.94 2.06.94-2.06 2.06-.94-2.06-.94-.94-2.06-.94 2.06-2.06.94zm-11 1L8.5 8.5l.94-2.06 2.06-.94-2.06-.94L8.5 2.5l-.94 2.06-2.06.94zm10 10l.94 2.06.94-2.06 2.06-.94-2.06-.94-.94-2.06-.94 2.06-2.06.94z\"/><path d=\"M17.41 7.96l-1.37-1.37c-.4-.4-.92-.59-1.43-.59-.52 0-1.04.2-1.43.59L10.3 9.45l-7.72 7.72c-.78.78-.78 2.05 0 2.83L4 21.41c.39.39.9.59 1.41.59.51 0 1.02-.2 1.41-.59l7.78-7.78 2.81-2.81c.8-.78.8-2.07 0-2.86zM5.41 20L4 18.59l7.72-7.72 1.47 1.35L5.41 20z\"/>\n",
              "  </svg>\n",
              "      </button>\n",
              "      \n",
              "  <style>\n",
              "    .colab-df-container {\n",
              "      display:flex;\n",
              "      flex-wrap:wrap;\n",
              "      gap: 12px;\n",
              "    }\n",
              "\n",
              "    .colab-df-convert {\n",
              "      background-color: #E8F0FE;\n",
              "      border: none;\n",
              "      border-radius: 50%;\n",
              "      cursor: pointer;\n",
              "      display: none;\n",
              "      fill: #1967D2;\n",
              "      height: 32px;\n",
              "      padding: 0 0 0 0;\n",
              "      width: 32px;\n",
              "    }\n",
              "\n",
              "    .colab-df-convert:hover {\n",
              "      background-color: #E2EBFA;\n",
              "      box-shadow: 0px 1px 2px rgba(60, 64, 67, 0.3), 0px 1px 3px 1px rgba(60, 64, 67, 0.15);\n",
              "      fill: #174EA6;\n",
              "    }\n",
              "\n",
              "    [theme=dark] .colab-df-convert {\n",
              "      background-color: #3B4455;\n",
              "      fill: #D2E3FC;\n",
              "    }\n",
              "\n",
              "    [theme=dark] .colab-df-convert:hover {\n",
              "      background-color: #434B5C;\n",
              "      box-shadow: 0px 1px 3px 1px rgba(0, 0, 0, 0.15);\n",
              "      filter: drop-shadow(0px 1px 2px rgba(0, 0, 0, 0.3));\n",
              "      fill: #FFFFFF;\n",
              "    }\n",
              "  </style>\n",
              "\n",
              "      <script>\n",
              "        const buttonEl =\n",
              "          document.querySelector('#df-a4345fe5-0f09-436c-acc8-7beb16d2e364 button.colab-df-convert');\n",
              "        buttonEl.style.display =\n",
              "          google.colab.kernel.accessAllowed ? 'block' : 'none';\n",
              "\n",
              "        async function convertToInteractive(key) {\n",
              "          const element = document.querySelector('#df-a4345fe5-0f09-436c-acc8-7beb16d2e364');\n",
              "          const dataTable =\n",
              "            await google.colab.kernel.invokeFunction('convertToInteractive',\n",
              "                                                     [key], {});\n",
              "          if (!dataTable) return;\n",
              "\n",
              "          const docLinkHtml = 'Like what you see? Visit the ' +\n",
              "            '<a target=\"_blank\" href=https://colab.research.google.com/notebooks/data_table.ipynb>data table notebook</a>'\n",
              "            + ' to learn more about interactive tables.';\n",
              "          element.innerHTML = '';\n",
              "          dataTable['output_type'] = 'display_data';\n",
              "          await google.colab.output.renderOutput(dataTable, element);\n",
              "          const docLink = document.createElement('div');\n",
              "          docLink.innerHTML = docLinkHtml;\n",
              "          element.appendChild(docLink);\n",
              "        }\n",
              "      </script>\n",
              "    </div>\n",
              "  </div>\n",
              "  "
            ]
          },
          "metadata": {},
          "execution_count": 6
        }
      ],
      "source": [
        "df.head()"
      ]
    },
    {
      "cell_type": "code",
      "execution_count": null,
      "metadata": {
        "colab": {
          "base_uri": "https://localhost:8080/"
        },
        "id": "SV_bUp9JwxS6",
        "outputId": "6e598b4f-3bed-40ab-fd24-71ee96ac24db"
      },
      "outputs": [
        {
          "output_type": "execute_result",
          "data": {
            "text/plain": [
              "(20640, 9)"
            ]
          },
          "metadata": {},
          "execution_count": 7
        }
      ],
      "source": [
        "df.shape"
      ]
    },
    {
      "cell_type": "markdown",
      "metadata": {
        "id": "q7bnnj4MyRWW"
      },
      "source": [
        "### Split data"
      ]
    },
    {
      "cell_type": "code",
      "execution_count": null,
      "metadata": {
        "id": "eh1NoOQt0cKk"
      },
      "outputs": [],
      "source": [
        "col_x = df.columns[1:]\n",
        "col_y = df.columns[0]"
      ]
    },
    {
      "cell_type": "code",
      "execution_count": null,
      "metadata": {
        "id": "7y8JRdR_yS40"
      },
      "outputs": [],
      "source": [
        "x_train, x_test, y_train, y_test = train_test_split(df[col_x], df[col_y], shuffle=True, random_state=0, train_size=0.8)"
      ]
    },
    {
      "cell_type": "markdown",
      "metadata": {
        "id": "-EV0rVrb1VPB"
      },
      "source": [
        "### Scale data"
      ]
    },
    {
      "cell_type": "code",
      "execution_count": null,
      "metadata": {
        "id": "9K1e9MEx1Xi_"
      },
      "outputs": [],
      "source": [
        "x_scaler = StandardScaler()\n",
        "x_train_std = x_scaler.fit_transform(x_train)\n",
        "x_test_std = x_scaler.transform(x_test)\n",
        "\n",
        "y_scaler = StandardScaler()\n",
        "y_train_std = y_scaler.fit_transform(y_train.to_numpy().reshape(-1, 1))\n",
        "y_test_std = y_scaler.transform(y_test.to_numpy().reshape(-1, 1))"
      ]
    },
    {
      "cell_type": "markdown",
      "metadata": {
        "id": "-cORvzDttZ1J"
      },
      "source": [
        "## Create a simple neural network model\n",
        "\n",
        "To generate outputs of Integrated Gradients, we need a DL model."
      ]
    },
    {
      "cell_type": "code",
      "execution_count": null,
      "metadata": {
        "colab": {
          "base_uri": "https://localhost:8080/"
        },
        "id": "9vTcFOBNwe1Q",
        "outputId": "a70035e8-3511-4dbc-a060-859dfbb079a2"
      },
      "outputs": [
        {
          "output_type": "stream",
          "name": "stdout",
          "text": [
            "Model: \"sequential\"\n",
            "_________________________________________________________________\n",
            " Layer (type)                Output Shape              Param #   \n",
            "=================================================================\n",
            " dense (Dense)               (None, 32)                288       \n",
            "                                                                 \n",
            " activation (Activation)     (None, 32)                0         \n",
            "                                                                 \n",
            " dense_1 (Dense)             (None, 32)                1056      \n",
            "                                                                 \n",
            " activation_1 (Activation)   (None, 32)                0         \n",
            "                                                                 \n",
            " dense_2 (Dense)             (None, 64)                2048      \n",
            "                                                                 \n",
            " batch_normalization (BatchN  (None, 64)               256       \n",
            " ormalization)                                                   \n",
            "                                                                 \n",
            " activation_2 (Activation)   (None, 64)                0         \n",
            "                                                                 \n",
            " dense_3 (Dense)             (None, 64)                4096      \n",
            "                                                                 \n",
            " batch_normalization_1 (Batc  (None, 64)               256       \n",
            " hNormalization)                                                 \n",
            "                                                                 \n",
            " activation_3 (Activation)   (None, 64)                0         \n",
            "                                                                 \n",
            " dense_4 (Dense)             (None, 1)                 65        \n",
            "                                                                 \n",
            "=================================================================\n",
            "Total params: 8,065\n",
            "Trainable params: 7,809\n",
            "Non-trainable params: 256\n",
            "_________________________________________________________________\n"
          ]
        }
      ],
      "source": [
        "model = tf.keras.Sequential()\n",
        "model.add(tf.keras.layers.Dense(32, input_dim=df.shape[-1]-1))\n",
        "model.add(tf.keras.layers.Activation('relu'))\n",
        "model.add(tf.keras.layers.Dense(32))\n",
        "model.add(tf.keras.layers.Activation('relu'))\n",
        "model.add(tf.keras.layers.Dense(64, use_bias=False))\n",
        "model.add(tf.keras.layers.BatchNormalization())\n",
        "model.add(tf.keras.layers.Activation('relu'))\n",
        "model.add(tf.keras.layers.Dense(64, use_bias=False))\n",
        "model.add(tf.keras.layers.BatchNormalization())\n",
        "model.add(tf.keras.layers.Activation('relu'))\n",
        "model.add(tf.keras.layers.Dense(1))\n",
        "model.compile(loss='mean_squared_error', optimizer='adam')#, metrics=['accuracy'])\n",
        "model.summary()"
      ]
    },
    {
      "cell_type": "code",
      "execution_count": null,
      "metadata": {
        "colab": {
          "base_uri": "https://localhost:8080/"
        },
        "id": "xzcE8qgOwymP",
        "outputId": "0b7f7313-39be-4702-800e-8c7f9946ab61"
      },
      "outputs": [
        {
          "output_type": "stream",
          "name": "stdout",
          "text": [
            "Epoch 1/100\n",
            "129/129 [==============================] - 2s 8ms/step - loss: 1.2874 - val_loss: 2.1353 - lr: 0.0010\n",
            "Epoch 2/100\n",
            "129/129 [==============================] - 1s 6ms/step - loss: 0.4509 - val_loss: 0.9791 - lr: 0.0010\n",
            "Epoch 3/100\n",
            "129/129 [==============================] - 1s 4ms/step - loss: 0.4051 - val_loss: 0.4717 - lr: 0.0010\n",
            "Epoch 4/100\n",
            "129/129 [==============================] - 1s 5ms/step - loss: 0.3675 - val_loss: 1.0005 - lr: 0.0010\n",
            "Epoch 5/100\n",
            "129/129 [==============================] - 1s 6ms/step - loss: 0.3577 - val_loss: 0.3506 - lr: 0.0010\n",
            "Epoch 6/100\n",
            "129/129 [==============================] - 1s 6ms/step - loss: 0.3364 - val_loss: 0.8718 - lr: 0.0010\n",
            "Epoch 7/100\n",
            "129/129 [==============================] - 1s 6ms/step - loss: 0.3325 - val_loss: 0.3932 - lr: 0.0010\n",
            "Epoch 8/100\n",
            "129/129 [==============================] - 1s 4ms/step - loss: 0.3224 - val_loss: 0.3714 - lr: 0.0010\n",
            "Epoch 9/100\n",
            "129/129 [==============================] - 1s 5ms/step - loss: 0.3139 - val_loss: 0.3365 - lr: 0.0010\n",
            "Epoch 10/100\n",
            "129/129 [==============================] - 1s 5ms/step - loss: 0.3069 - val_loss: 0.3969 - lr: 0.0010\n",
            "Epoch 11/100\n",
            "129/129 [==============================] - 1s 5ms/step - loss: 0.3001 - val_loss: 0.3554 - lr: 0.0010\n",
            "Epoch 12/100\n",
            "129/129 [==============================] - 1s 6ms/step - loss: 0.3017 - val_loss: 0.3795 - lr: 0.0010\n",
            "Epoch 13/100\n",
            "127/129 [============================>.] - ETA: 0s - loss: 0.2970\n",
            "Epoch 13: ReduceLROnPlateau reducing learning rate to 0.0005000000237487257.\n",
            "129/129 [==============================] - 1s 5ms/step - loss: 0.2979 - val_loss: 0.3874 - lr: 0.0010\n",
            "Epoch 14/100\n",
            "129/129 [==============================] - 1s 5ms/step - loss: 0.2879 - val_loss: 0.3126 - lr: 5.0000e-04\n",
            "Epoch 15/100\n",
            "129/129 [==============================] - 1s 5ms/step - loss: 0.2807 - val_loss: 0.4354 - lr: 5.0000e-04\n",
            "Epoch 16/100\n",
            "129/129 [==============================] - 1s 4ms/step - loss: 0.2781 - val_loss: 0.3079 - lr: 5.0000e-04\n",
            "Epoch 17/100\n",
            "129/129 [==============================] - 1s 5ms/step - loss: 0.2766 - val_loss: 0.3582 - lr: 5.0000e-04\n",
            "Epoch 18/100\n",
            "129/129 [==============================] - 1s 6ms/step - loss: 0.2753 - val_loss: 0.3206 - lr: 5.0000e-04\n",
            "Epoch 19/100\n",
            "129/129 [==============================] - 1s 6ms/step - loss: 0.2730 - val_loss: 0.3278 - lr: 5.0000e-04\n",
            "Epoch 20/100\n",
            "117/129 [==========================>...] - ETA: 0s - loss: 0.2731\n",
            "Epoch 20: ReduceLROnPlateau reducing learning rate to 0.0002500000118743628.\n",
            "129/129 [==============================] - 1s 5ms/step - loss: 0.2726 - val_loss: 0.3526 - lr: 5.0000e-04\n",
            "Epoch 21/100\n",
            "129/129 [==============================] - 1s 5ms/step - loss: 0.2685 - val_loss: 0.3076 - lr: 2.5000e-04\n",
            "Epoch 22/100\n",
            "129/129 [==============================] - 1s 6ms/step - loss: 0.2634 - val_loss: 0.3066 - lr: 2.5000e-04\n",
            "Epoch 23/100\n",
            "129/129 [==============================] - 1s 6ms/step - loss: 0.2658 - val_loss: 0.3198 - lr: 2.5000e-04\n",
            "Epoch 24/100\n",
            "129/129 [==============================] - 1s 5ms/step - loss: 0.2639 - val_loss: 0.3056 - lr: 2.5000e-04\n",
            "Epoch 25/100\n",
            "129/129 [==============================] - 1s 7ms/step - loss: 0.2606 - val_loss: 0.3232 - lr: 2.5000e-04\n",
            "Epoch 26/100\n",
            "129/129 [==============================] - 1s 8ms/step - loss: 0.2619 - val_loss: 0.3055 - lr: 2.5000e-04\n",
            "Epoch 27/100\n",
            "129/129 [==============================] - 1s 6ms/step - loss: 0.2646 - val_loss: 0.3215 - lr: 2.5000e-04\n",
            "Epoch 28/100\n",
            "129/129 [==============================] - 1s 5ms/step - loss: 0.2618 - val_loss: 0.3117 - lr: 2.5000e-04\n",
            "Epoch 29/100\n",
            "129/129 [==============================] - 1s 6ms/step - loss: 0.2601 - val_loss: 0.3174 - lr: 2.5000e-04\n",
            "Epoch 30/100\n",
            "129/129 [==============================] - 1s 6ms/step - loss: 0.2602 - val_loss: 0.2929 - lr: 2.5000e-04\n",
            "Epoch 31/100\n",
            "129/129 [==============================] - 1s 5ms/step - loss: 0.2573 - val_loss: 0.3422 - lr: 2.5000e-04\n",
            "Epoch 32/100\n",
            "129/129 [==============================] - 1s 6ms/step - loss: 0.2587 - val_loss: 0.2959 - lr: 2.5000e-04\n",
            "Epoch 33/100\n",
            "129/129 [==============================] - 1s 7ms/step - loss: 0.2611 - val_loss: 0.3219 - lr: 2.5000e-04\n",
            "Epoch 34/100\n",
            "129/129 [==============================] - 1s 4ms/step - loss: 0.2567 - val_loss: 0.2910 - lr: 2.5000e-04\n",
            "Epoch 35/100\n",
            "129/129 [==============================] - 1s 5ms/step - loss: 0.2562 - val_loss: 0.3128 - lr: 2.5000e-04\n",
            "Epoch 36/100\n",
            "129/129 [==============================] - 1s 5ms/step - loss: 0.2549 - val_loss: 0.3028 - lr: 2.5000e-04\n",
            "Epoch 37/100\n",
            "129/129 [==============================] - 1s 6ms/step - loss: 0.2580 - val_loss: 0.2984 - lr: 2.5000e-04\n",
            "Epoch 38/100\n",
            "119/129 [==========================>...] - ETA: 0s - loss: 0.2514\n",
            "Epoch 38: ReduceLROnPlateau reducing learning rate to 0.0001250000059371814.\n",
            "129/129 [==============================] - 1s 7ms/step - loss: 0.2541 - val_loss: 0.3213 - lr: 2.5000e-04\n",
            "Epoch 39/100\n",
            "129/129 [==============================] - 1s 6ms/step - loss: 0.2517 - val_loss: 0.3067 - lr: 1.2500e-04\n",
            "Epoch 40/100\n",
            "129/129 [==============================] - 1s 4ms/step - loss: 0.2538 - val_loss: 0.2904 - lr: 1.2500e-04\n",
            "Epoch 41/100\n",
            "129/129 [==============================] - 1s 5ms/step - loss: 0.2495 - val_loss: 0.2947 - lr: 1.2500e-04\n",
            "Epoch 42/100\n",
            "129/129 [==============================] - 1s 6ms/step - loss: 0.2485 - val_loss: 0.2941 - lr: 1.2500e-04\n",
            "Epoch 43/100\n",
            "129/129 [==============================] - 1s 5ms/step - loss: 0.2475 - val_loss: 0.3007 - lr: 1.2500e-04\n",
            "Epoch 44/100\n",
            "122/129 [===========================>..] - ETA: 0s - loss: 0.2495\n",
            "Epoch 44: ReduceLROnPlateau reducing learning rate to 6.25000029685907e-05.\n",
            "129/129 [==============================] - 1s 5ms/step - loss: 0.2510 - val_loss: 0.2958 - lr: 1.2500e-04\n",
            "Epoch 45/100\n",
            "129/129 [==============================] - 1s 5ms/step - loss: 0.2498 - val_loss: 0.3003 - lr: 6.2500e-05\n",
            "Epoch 46/100\n",
            "129/129 [==============================] - 1s 5ms/step - loss: 0.2469 - val_loss: 0.2961 - lr: 6.2500e-05\n",
            "Epoch 47/100\n",
            "129/129 [==============================] - 1s 5ms/step - loss: 0.2455 - val_loss: 0.2948 - lr: 6.2500e-05\n",
            "Epoch 48/100\n",
            "129/129 [==============================] - 1s 5ms/step - loss: 0.2483 - val_loss: 0.2892 - lr: 6.2500e-05\n",
            "Epoch 49/100\n",
            "129/129 [==============================] - 1s 4ms/step - loss: 0.2443 - val_loss: 0.2877 - lr: 6.2500e-05\n",
            "Epoch 50/100\n",
            "129/129 [==============================] - 1s 5ms/step - loss: 0.2469 - val_loss: 0.2945 - lr: 6.2500e-05\n",
            "Epoch 51/100\n",
            "129/129 [==============================] - 1s 5ms/step - loss: 0.2457 - val_loss: 0.2947 - lr: 6.2500e-05\n",
            "Epoch 52/100\n",
            "129/129 [==============================] - 1s 5ms/step - loss: 0.2466 - val_loss: 0.2926 - lr: 6.2500e-05\n",
            "Epoch 53/100\n",
            "117/129 [==========================>...] - ETA: 0s - loss: 0.2483\n",
            "Epoch 53: ReduceLROnPlateau reducing learning rate to 3.125000148429535e-05.\n",
            "129/129 [==============================] - 0s 4ms/step - loss: 0.2465 - val_loss: 0.2903 - lr: 6.2500e-05\n",
            "Epoch 54/100\n",
            "129/129 [==============================] - 1s 5ms/step - loss: 0.2484 - val_loss: 0.2926 - lr: 3.1250e-05\n",
            "Epoch 55/100\n",
            "129/129 [==============================] - 1s 4ms/step - loss: 0.2426 - val_loss: 0.2925 - lr: 3.1250e-05\n",
            "Epoch 56/100\n",
            "129/129 [==============================] - 1s 5ms/step - loss: 0.2448 - val_loss: 0.2889 - lr: 3.1250e-05\n",
            "Epoch 57/100\n",
            "125/129 [============================>.] - ETA: 0s - loss: 0.2434\n",
            "Epoch 57: ReduceLROnPlateau reducing learning rate to 1.5625000742147677e-05.\n",
            "129/129 [==============================] - 1s 5ms/step - loss: 0.2455 - val_loss: 0.2884 - lr: 3.1250e-05\n",
            "Epoch 58/100\n",
            "129/129 [==============================] - 1s 5ms/step - loss: 0.2426 - val_loss: 0.2906 - lr: 1.5625e-05\n",
            "Epoch 59/100\n",
            "129/129 [==============================] - 1s 4ms/step - loss: 0.2428 - val_loss: 0.2938 - lr: 1.5625e-05\n",
            "Epoch 60/100\n",
            "129/129 [==============================] - 0s 3ms/step - loss: 0.2475 - val_loss: 0.2910 - lr: 1.5625e-05\n",
            "Epoch 61/100\n",
            "108/129 [========================>.....] - ETA: 0s - loss: 0.2426\n",
            "Epoch 61: ReduceLROnPlateau reducing learning rate to 1e-05.\n",
            "129/129 [==============================] - 0s 3ms/step - loss: 0.2439 - val_loss: 0.2964 - lr: 1.5625e-05\n",
            "Epoch 62/100\n",
            "129/129 [==============================] - 0s 3ms/step - loss: 0.2442 - val_loss: 0.2978 - lr: 1.0000e-05\n",
            "Epoch 63/100\n",
            "129/129 [==============================] - 0s 3ms/step - loss: 0.2446 - val_loss: 0.2917 - lr: 1.0000e-05\n",
            "Epoch 64/100\n",
            "129/129 [==============================] - 0s 3ms/step - loss: 0.2409 - val_loss: 0.2913 - lr: 1.0000e-05\n",
            "Epoch 65/100\n",
            "129/129 [==============================] - 0s 3ms/step - loss: 0.2440 - val_loss: 0.2872 - lr: 1.0000e-05\n",
            "Epoch 66/100\n",
            "129/129 [==============================] - 0s 3ms/step - loss: 0.2411 - val_loss: 0.2882 - lr: 1.0000e-05\n",
            "Epoch 67/100\n",
            "129/129 [==============================] - 0s 3ms/step - loss: 0.2420 - val_loss: 0.2966 - lr: 1.0000e-05\n",
            "Epoch 68/100\n",
            "129/129 [==============================] - 0s 3ms/step - loss: 0.2455 - val_loss: 0.2876 - lr: 1.0000e-05\n",
            "Epoch 69/100\n",
            "129/129 [==============================] - 0s 3ms/step - loss: 0.2430 - val_loss: 0.2918 - lr: 1.0000e-05\n",
            "Epoch 70/100\n",
            "129/129 [==============================] - 0s 3ms/step - loss: 0.2416 - val_loss: 0.2925 - lr: 1.0000e-05\n",
            "Epoch 71/100\n",
            "129/129 [==============================] - 0s 3ms/step - loss: 0.2436 - val_loss: 0.2903 - lr: 1.0000e-05\n",
            "Epoch 72/100\n",
            "129/129 [==============================] - 0s 3ms/step - loss: 0.2465 - val_loss: 0.2933 - lr: 1.0000e-05\n",
            "Epoch 73/100\n",
            "129/129 [==============================] - 0s 3ms/step - loss: 0.2415 - val_loss: 0.2893 - lr: 1.0000e-05\n",
            "Epoch 74/100\n",
            "129/129 [==============================] - 0s 3ms/step - loss: 0.2448 - val_loss: 0.2862 - lr: 1.0000e-05\n",
            "Epoch 75/100\n",
            "129/129 [==============================] - 0s 3ms/step - loss: 0.2458 - val_loss: 0.2920 - lr: 1.0000e-05\n",
            "Epoch 76/100\n",
            "129/129 [==============================] - 0s 3ms/step - loss: 0.2447 - val_loss: 0.2963 - lr: 1.0000e-05\n",
            "Epoch 77/100\n",
            "129/129 [==============================] - 0s 3ms/step - loss: 0.2408 - val_loss: 0.2868 - lr: 1.0000e-05\n",
            "Epoch 78/100\n",
            "129/129 [==============================] - 0s 3ms/step - loss: 0.2416 - val_loss: 0.2903 - lr: 1.0000e-05\n",
            "Epoch 79/100\n",
            "129/129 [==============================] - 0s 3ms/step - loss: 0.2428 - val_loss: 0.2931 - lr: 1.0000e-05\n",
            "Epoch 80/100\n",
            "129/129 [==============================] - 0s 3ms/step - loss: 0.2467 - val_loss: 0.2936 - lr: 1.0000e-05\n",
            "Epoch 81/100\n",
            "129/129 [==============================] - 0s 3ms/step - loss: 0.2440 - val_loss: 0.2870 - lr: 1.0000e-05\n",
            "Epoch 82/100\n",
            "129/129 [==============================] - 0s 3ms/step - loss: 0.2429 - val_loss: 0.2906 - lr: 1.0000e-05\n",
            "Epoch 83/100\n",
            "129/129 [==============================] - 0s 3ms/step - loss: 0.2437 - val_loss: 0.2862 - lr: 1.0000e-05\n",
            "Epoch 84/100\n",
            "129/129 [==============================] - 0s 3ms/step - loss: 0.2462 - val_loss: 0.2899 - lr: 1.0000e-05\n",
            "Epoch 85/100\n",
            "129/129 [==============================] - 0s 3ms/step - loss: 0.2426 - val_loss: 0.2874 - lr: 1.0000e-05\n",
            "Epoch 86/100\n",
            "129/129 [==============================] - 0s 3ms/step - loss: 0.2433 - val_loss: 0.2987 - lr: 1.0000e-05\n",
            "Epoch 87/100\n",
            "129/129 [==============================] - 0s 3ms/step - loss: 0.2442 - val_loss: 0.2944 - lr: 1.0000e-05\n",
            "Epoch 88/100\n",
            "129/129 [==============================] - 0s 3ms/step - loss: 0.2407 - val_loss: 0.2938 - lr: 1.0000e-05\n",
            "Epoch 89/100\n",
            "129/129 [==============================] - 0s 3ms/step - loss: 0.2406 - val_loss: 0.2933 - lr: 1.0000e-05\n",
            "Epoch 90/100\n",
            "129/129 [==============================] - 0s 3ms/step - loss: 0.2425 - val_loss: 0.2972 - lr: 1.0000e-05\n",
            "Epoch 91/100\n",
            "129/129 [==============================] - 0s 3ms/step - loss: 0.2445 - val_loss: 0.2884 - lr: 1.0000e-05\n",
            "Epoch 92/100\n",
            "129/129 [==============================] - 0s 3ms/step - loss: 0.2399 - val_loss: 0.2899 - lr: 1.0000e-05\n",
            "Epoch 93/100\n",
            "129/129 [==============================] - 0s 3ms/step - loss: 0.2435 - val_loss: 0.2910 - lr: 1.0000e-05\n",
            "Epoch 94/100\n",
            "113/129 [=========================>....] - ETA: 0s - loss: 0.2396Restoring model weights from the end of the best epoch: 74.\n",
            "129/129 [==============================] - 0s 3ms/step - loss: 0.2402 - val_loss: 0.2896 - lr: 1.0000e-05\n",
            "Epoch 94: early stopping\n"
          ]
        }
      ],
      "source": [
        "epochs = 100\n",
        "batch_size = 128\n",
        "reduce_lr = tf.keras.callbacks.ReduceLROnPlateau(monitor='val_loss', factor=0.5, patience=4, min_lr=0.00001, verbose=1)\n",
        "early_stop = tf.keras.callbacks.EarlyStopping(monitor='val_loss', verbose=1, restore_best_weights=True, patience=20)\n",
        "hist = model.fit(x_train_std, y_train, epochs=epochs, batch_size=batch_size, \n",
        "                 validation_data=(x_test_std, y_test), callbacks=[reduce_lr, early_stop])"
      ]
    },
    {
      "cell_type": "code",
      "execution_count": null,
      "metadata": {
        "id": "sU__lJbl1QFo"
      },
      "outputs": [],
      "source": [
        "y_pred = model.predict(x_test_std).reshape(-1)"
      ]
    },
    {
      "cell_type": "code",
      "execution_count": null,
      "metadata": {
        "colab": {
          "base_uri": "https://localhost:8080/"
        },
        "id": "VXuwlcsfF5JQ",
        "outputId": "45e3da43-4eda-43fb-9573-13c205b2888a"
      },
      "outputs": [
        {
          "output_type": "execute_result",
          "data": {
            "text/plain": [
              "array([1.4693351, 2.6133587, 1.2974439, ..., 1.3038476, 2.6460881,\n",
              "       1.7276337], dtype=float32)"
            ]
          },
          "metadata": {},
          "execution_count": 14
        }
      ],
      "source": [
        "y_pred"
      ]
    },
    {
      "cell_type": "code",
      "execution_count": null,
      "metadata": {
        "colab": {
          "base_uri": "https://localhost:8080/",
          "height": 297
        },
        "id": "j7ip96IwFp7a",
        "outputId": "786835d0-115e-48aa-ff55-a982014d25f2"
      },
      "outputs": [
        {
          "output_type": "execute_result",
          "data": {
            "text/plain": [
              "<matplotlib.axes._subplots.AxesSubplot at 0x7f83c0feaa10>"
            ]
          },
          "metadata": {},
          "execution_count": 15
        },
        {
          "output_type": "display_data",
          "data": {
            "text/plain": [
              "<Figure size 432x288 with 1 Axes>"
            ],
            "image/png": "[encoded data removed]"
          },
          "metadata": {
            "needs_background": "light"
          }
        }
      ],
      "source": [
        "sns.scatterplot(x=y_test, y=y_pred)"
      ]
    },
    {
      "cell_type": "code",
      "execution_count": null,
      "metadata": {
        "colab": {
          "base_uri": "https://localhost:8080/"
        },
        "id": "SMvOUBo2F8IS",
        "outputId": "74722868-4ffc-467a-bdaf-438ab2bf3c81"
      },
      "outputs": [
        {
          "output_type": "execute_result",
          "data": {
            "text/plain": [
              "0.7805427045770255"
            ]
          },
          "metadata": {},
          "execution_count": 16
        }
      ],
      "source": [
        "r2_score(y_test, y_pred)"
      ]
    },
    {
      "cell_type": "code",
      "execution_count": null,
      "metadata": {
        "colab": {
          "base_uri": "https://localhost:8080/"
        },
        "id": "J11o2PDzIOOY",
        "outputId": "242245db-8460-40bd-f8e0-d3fec3b53914"
      },
      "outputs": [
        {
          "output_type": "execute_result",
          "data": {
            "text/plain": [
              "0.2861624162155299"
            ]
          },
          "metadata": {},
          "execution_count": 17
        }
      ],
      "source": [
        "mean_squared_error(y_test, y_pred)"
      ]
    },
    {
      "cell_type": "markdown",
      "metadata": {
        "id": "TzjqtcOwIRzr"
      },
      "source": [
        "\n",
        "## Implementation of Integrated Gradients"
      ]
    },
    {
      "cell_type": "markdown",
      "metadata": {
        "id": "bdQr8QbfwyoG"
      },
      "source": [
        "This algorithm analyzes changes in data, so in order to make changes in data we generate numbers in a certain range, alphas which will be multiplied by inputs. This leads to results that the intensity of each variable is increasing over alphas. In other words, if they are images, the first image is completely black, and they are more and more becoming brighter as the alpha is increasing. Finally, the last image shows its original shape."
      ]
    },
    {
      "cell_type": "code",
      "execution_count": null,
      "metadata": {
        "colab": {
          "base_uri": "https://localhost:8080/"
        },
        "id": "Ya4JBdgouTY5",
        "outputId": "8ebf9edf-b408-4fff-b2a0-bcd90e4029b3"
      },
      "outputs": [
        {
          "output_type": "execute_result",
          "data": {
            "text/plain": [
              "<tf.Tensor: shape=(51,), dtype=float32, numpy=\n",
              "array([0.        , 0.02      , 0.04      , 0.06      , 0.08      ,\n",
              "       0.09999999, 0.12      , 0.14      , 0.16      , 0.17999999,\n",
              "       0.19999999, 0.22      , 0.24      , 0.26      , 0.28      ,\n",
              "       0.29999998, 0.32      , 0.34      , 0.35999998, 0.38      ,\n",
              "       0.39999998, 0.42      , 0.44      , 0.45999998, 0.48      ,\n",
              "       0.5       , 0.52      , 0.53999996, 0.56      , 0.58      ,\n",
              "       0.59999996, 0.62      , 0.64      , 0.65999997, 0.68      ,\n",
              "       0.7       , 0.71999997, 0.74      , 0.76      , 0.78      ,\n",
              "       0.79999995, 0.82      , 0.84      , 0.85999995, 0.88      ,\n",
              "       0.9       , 0.91999996, 0.94      , 0.96      , 0.97999996,\n",
              "       1.        ], dtype=float32)>"
            ]
          },
          "metadata": {},
          "execution_count": 18
        }
      ],
      "source": [
        "# alphas\n",
        "m_steps = 50\n",
        "alphas = tf.linspace(start=0.0, stop=1.0, num=m_steps+1)\n",
        "alphas"
      ]
    },
    {
      "cell_type": "code",
      "execution_count": null,
      "metadata": {
        "colab": {
          "base_uri": "https://localhost:8080/"
        },
        "id": "Br7DHFaGVlB1",
        "outputId": "e265e9ec-72be-49c7-997c-c69ad218d012"
      },
      "outputs": [
        {
          "output_type": "execute_result",
          "data": {
            "text/plain": [
              "<tf.Tensor: shape=(8,), dtype=float32, numpy=array([0., 0., 0., 0., 0., 0., 0., 0.], dtype=float32)>"
            ]
          },
          "metadata": {},
          "execution_count": 19
        }
      ],
      "source": [
        "# baseline\n",
        "baseline = tf.zeros(shape=(x_train.shape[-1]))\n",
        "#tf.random.uniform(shape=(224,224,3), minval=0.0, maxval=1.0)\n",
        "baseline"
      ]
    },
    {
      "cell_type": "code",
      "execution_count": null,
      "metadata": {
        "id": "MU4FRH1aL7cS"
      },
      "outputs": [],
      "source": [
        "# interpolate\n",
        "def interpolate_data(baseline, data, alphas):\n",
        "    alphas_x = alphas[:, tf.newaxis]\n",
        "    baseline_x = tf.expand_dims(baseline, axis=0)\n",
        "    input_x = tf.expand_dims(tf.cast(data, tf.float32), axis=0)\n",
        "    delta = input_x - baseline_x\n",
        "    outputs = baseline_x + alphas_x * delta\n",
        "    return outputs"
      ]
    },
    {
      "cell_type": "code",
      "execution_count": null,
      "metadata": {
        "colab": {
          "base_uri": "https://localhost:8080/"
        },
        "id": "y3EnzS9xMYfg",
        "outputId": "9654a80b-7ab4-46f7-8f43-7e0d0f2e9032"
      },
      "outputs": [
        {
          "output_type": "execute_result",
          "data": {
            "text/plain": [
              "TensorShape([51, 8])"
            ]
          },
          "metadata": {},
          "execution_count": 21
        }
      ],
      "source": [
        "interpolated_outputs = interpolate_data(baseline=baseline, data=x_train_std[0], alphas=alphas)\n",
        "interpolated_outputs.shape"
      ]
    },
    {
      "cell_type": "markdown",
      "metadata": {
        "id": "k73WGPwWA8J5"
      },
      "source": [
        "Test with numpy."
      ]
    },
    {
      "cell_type": "code",
      "execution_count": null,
      "metadata": {
        "colab": {
          "base_uri": "https://localhost:8080/"
        },
        "id": "lPC7UVnJmjrB",
        "outputId": "13e0e194-18d7-4895-fb79-ea48201a990d"
      },
      "outputs": [
        {
          "output_type": "execute_result",
          "data": {
            "text/plain": [
              "TensorShape([51, 8])"
            ]
          },
          "metadata": {},
          "execution_count": 22
        }
      ],
      "source": [
        "interpolated_outputs.shape"
      ]
    },
    {
      "cell_type": "code",
      "execution_count": null,
      "metadata": {
        "colab": {
          "base_uri": "https://localhost:8080/"
        },
        "id": "O4the0uf-MI9",
        "outputId": "e9a293f5-d70a-4e4c-83fd-3044f334e1d7"
      },
      "outputs": [
        {
          "output_type": "execute_result",
          "data": {
            "text/plain": [
              "array([0.  , 0.02, 0.04, 0.06, 0.08, 0.1 , 0.12, 0.14, 0.16, 0.18, 0.2 ,\n",
              "       0.22, 0.24, 0.26, 0.28, 0.3 , 0.32, 0.34, 0.36, 0.38, 0.4 , 0.42,\n",
              "       0.44, 0.46, 0.48, 0.5 , 0.52, 0.54, 0.56, 0.58, 0.6 , 0.62, 0.64,\n",
              "       0.66, 0.68, 0.7 , 0.72, 0.74, 0.76, 0.78, 0.8 , 0.82, 0.84, 0.86,\n",
              "       0.88, 0.9 , 0.92, 0.94, 0.96, 0.98, 1.  ])"
            ]
          },
          "metadata": {},
          "execution_count": 23
        }
      ],
      "source": [
        "# alphas - numpy\n",
        "steps = 50\n",
        "alphas = np.linspace(start=0.0, stop=1.0, num=steps+1)\n",
        "alphas"
      ]
    },
    {
      "cell_type": "code",
      "execution_count": null,
      "metadata": {
        "colab": {
          "base_uri": "https://localhost:8080/"
        },
        "id": "5YX5iWU6-vAX",
        "outputId": "a5b13490-918e-4e40-b675-4b1bf092f22d"
      },
      "outputs": [
        {
          "output_type": "execute_result",
          "data": {
            "text/plain": [
              "array([0., 0., 0., 0., 0., 0., 0., 0.])"
            ]
          },
          "metadata": {},
          "execution_count": 24
        }
      ],
      "source": [
        "# baseline - numpy\n",
        "baseline = np.zeros(shape=(x_train.shape[-1]))\n",
        "baseline\n",
        "#np.random.uniform(size=x_train.shape[-1])"
      ]
    },
    {
      "cell_type": "code",
      "execution_count": null,
      "metadata": {
        "id": "PiB_N2v8_Y-_"
      },
      "outputs": [],
      "source": [
        "# interpolate - numpy\n",
        "def interpolate(baseline, data, alphas):\n",
        "    alphas_x = alphas.reshape(-1, 1)\n",
        "    baseline_x = baseline.reshape(1, -1)\n",
        "    input_x = data.reshape(1, -1)\n",
        "    delta = input_x - baseline_x\n",
        "    outputs = baseline_x + alphas_x * delta\n",
        "    return outputs"
      ]
    },
    {
      "cell_type": "code",
      "execution_count": null,
      "metadata": {
        "id": "BNP6ywIbA1tK"
      },
      "outputs": [],
      "source": [
        "inter_outputs_np = interpolate(baseline=baseline, data=x_train_std[0], alphas=alphas)"
      ]
    },
    {
      "cell_type": "code",
      "execution_count": null,
      "metadata": {
        "id": "F36juv4lmtwY"
      },
      "outputs": [],
      "source": [
        "# get gradients\n",
        "def get_gradients(data, y_idx=1, classification=True):\n",
        "    with tf.GradientTape() as tape:\n",
        "        tape.watch(data)\n",
        "        logits = model(data)\n",
        "        if classification:\n",
        "            probs = tf.nn.softmax(logits, axis=-1)[:, y_idx]\n",
        "        else:\n",
        "            probs = logits\n",
        "    return tape.gradient(probs, data)"
      ]
    },
    {
      "cell_type": "code",
      "execution_count": null,
      "metadata": {
        "colab": {
          "base_uri": "https://localhost:8080/"
        },
        "id": "-HjDFey5pfvo",
        "outputId": "3de68d16-9ca7-4e2c-e000-347f85e8f657"
      },
      "outputs": [
        {
          "output_type": "execute_result",
          "data": {
            "text/plain": [
              "TensorShape([51, 8])"
            ]
          },
          "metadata": {},
          "execution_count": 28
        }
      ],
      "source": [
        "grads = get_gradients(data=interpolated_outputs, classification=False)\n",
        "grads.shape"
      ]
    },
    {
      "cell_type": "code",
      "execution_count": null,
      "metadata": {
        "id": "HKGWgg_Gs6FI"
      },
      "outputs": [],
      "source": [
        "def integral_approximation(gradients):\n",
        "    # riemann_trapezoidal\n",
        "    grads = (gradients[:-1] + gradients[1:]) / tf.constant(2.0)\n",
        "    integrated_gradients = tf.math.reduce_mean(grads, axis=0)\n",
        "    return integrated_gradients"
      ]
    },
    {
      "cell_type": "code",
      "execution_count": null,
      "metadata": {
        "colab": {
          "base_uri": "https://localhost:8080/"
        },
        "id": "EA1ILClUtBW4",
        "outputId": "7f9d2e02-239e-403a-ca90-2291d944bf2d"
      },
      "outputs": [
        {
          "output_type": "execute_result",
          "data": {
            "text/plain": [
              "TensorShape([8])"
            ]
          },
          "metadata": {},
          "execution_count": 30
        }
      ],
      "source": [
        "ig = integral_approximation(grads)\n",
        "ig.shape"
      ]
    },
    {
      "cell_type": "code",
      "execution_count": null,
      "metadata": {
        "id": "eCh_jW6vJmRf"
      },
      "outputs": [],
      "source": [
        "@tf.function\n",
        "def integrated_gradients(data, y_idx=1, m_steps=50, batch_size=30, classification=True):\n",
        "    data = tf.cast(data, tf.float32)\n",
        "    baseline = tf.zeros(shape=(x_train.shape[-1]))\n",
        "    alphas = tf.linspace(start=0.0, stop=1.0, num=m_steps+1)\n",
        " \n",
        "    gradient_batches = tf.TensorArray(tf.float32, size=m_steps+1)\n",
        "\n",
        "    for alpha in tf.range(0, len(alphas), batch_size):\n",
        "        start = alpha\n",
        "        end = tf.minimum(start + batch_size, len(alphas))\n",
        "        alpha_batch = alphas[start:end]\n",
        "\n",
        "        outputs_batch = interpolate_data(baseline=baseline, data=data, alphas=alpha_batch)\n",
        "        gradient_batch = get_gradients(data=outputs_batch, y_idx=y_idx, classification=classification)\n",
        "        gradient_batches = gradient_batches.scatter(tf.range(start, end), gradient_batch)    \n",
        "\n",
        "    total_gradients = gradient_batches.stack()\n",
        "    avg_gradients = integral_approximation(gradients=total_gradients)\n",
        "    integrated_gradients = (data - baseline) * avg_gradients\n",
        "\n",
        "    return integrated_gradients"
      ]
    },
    {
      "cell_type": "code",
      "execution_count": null,
      "metadata": {
        "colab": {
          "base_uri": "https://localhost:8080/"
        },
        "id": "R6Hk82KRL7AC",
        "outputId": "32c0e2af-9be5-4604-a1ec-b9924e1bc881"
      },
      "outputs": [
        {
          "output_type": "execute_result",
          "data": {
            "text/plain": [
              "<tf.Tensor: shape=(8,), dtype=float32, numpy=\n",
              "array([ 0.10492647,  0.06232742,  0.402466  , -0.0322178 ,  0.5019936 ,\n",
              "       -0.00896493,  2.598618  , -1.3619306 ], dtype=float32)>"
            ]
          },
          "metadata": {},
          "execution_count": 32
        }
      ],
      "source": [
        "integrated_gradients(data=x_train_std[0], classification=False)"
      ]
    },
    {
      "cell_type": "markdown",
      "metadata": {
        "id": "mxwRyQ7e0oIK"
      },
      "source": [
        "Combine everything in a class and then make a module.\n",
        "\n",
        "The name of module is **igtab**. You will be able to load the class in a way described below."
      ]
    },
    {
      "cell_type": "markdown",
      "source": [
        "## Load the explainer\n",
        "\n",
        "**igtab** has more features than the sample code above. \n",
        "\n",
        "- Supports 2 initializing methods: zeros, random values from the uniform distribution\n",
        "- Supports 4 types of models: binary classification, multiclass classification, regression, autoencoder for anomaly detection"
      ],
      "metadata": {
        "id": "VKqjRvYEkYWa"
      }
    },
    {
      "cell_type": "code",
      "execution_count": null,
      "metadata": {
        "id": "Ohf4d3afWFfJ"
      },
      "outputs": [],
      "source": [
        "from igtab import Explainer"
      ]
    },
    {
      "cell_type": "code",
      "execution_count": null,
      "metadata": {
        "id": "fFEnUFaFhAXB"
      },
      "outputs": [],
      "source": [
        "ig_deep = TabularExplainer(model=model, type=None)"
      ]
    },
    {
      "cell_type": "code",
      "execution_count": null,
      "metadata": {
        "colab": {
          "base_uri": "https://localhost:8080/"
        },
        "id": "t5OoEVe5mMWS",
        "outputId": "c4501d23-689c-4328-eaa0-81983be1a79c"
      },
      "outputs": [
        {
          "output_type": "stream",
          "name": "stderr",
          "text": [
            "100%|██████████| 16512/16512 [00:19<00:00, 861.69it/s]\n"
          ]
        }
      ],
      "source": [
        "res = ig_deep.ig_values(x_train_std)"
      ]
    },
    {
      "cell_type": "code",
      "execution_count": null,
      "metadata": {
        "colab": {
          "base_uri": "https://localhost:8080/"
        },
        "id": "Tlhhe8S4jJXG",
        "outputId": "8e955d58-2819-4310-96cf-94942aee2c70"
      },
      "outputs": [
        {
          "output_type": "execute_result",
          "data": {
            "text/plain": [
              "(16512, 8)"
            ]
          },
          "metadata": {},
          "execution_count": 36
        }
      ],
      "source": [
        "ig_deep.result.shape"
      ]
    },
    {
      "cell_type": "markdown",
      "metadata": {
        "id": "sr4wFCD9z_go"
      },
      "source": [
        "The detail of how to use this algorithm is explained in a different document. I recommend you to use the python module in my github instead of copying source code in this jupyter notebook."
      ]
    },
    {
      "cell_type": "code",
      "execution_count": null,
      "metadata": {
        "id": "HK_XuptL1GY6"
      },
      "outputs": [],
      "source": [
        ""
      ]
    }
  ],
  "metadata": {
    "colab": {
      "collapsed_sections": [],
      "name": "Implementation_of_Integrated_Gradients_for_tabular_data.ipynb",
      "provenance": [],
      "toc_visible": true
    },
    "kernelspec": {
      "display_name": "Python 3",
      "language": "python",
      "name": "python3"
    },
    "language_info": {
      "codemirror_mode": {
        "name": "ipython",
        "version": 3
      },
      "file_extension": ".py",
      "mimetype": "text/x-python",
      "name": "python",
      "nbconvert_exporter": "python",
      "pygments_lexer": "ipython3",
      "version": "3.8.9"
    }
  },
  "nbformat": 4,
  "nbformat_minor": 0
}